{
 "cells": [
  {
   "cell_type": "markdown",
   "metadata": {
    "id": "CJq8MoKhqxu6"
   },
   "source": [
    "# Importing the Libraries"
   ]
  },
  {
   "cell_type": "code",
   "execution_count": 46,
   "metadata": {
    "colab": {
     "base_uri": "https://localhost:8080/"
    },
    "executionInfo": {
     "elapsed": 3920,
     "status": "ok",
     "timestamp": 1676439209774,
     "user": {
      "displayName": "tru project",
      "userId": "12415419966224768655"
     },
     "user_tz": -330
    },
    "id": "ff2uQGhz11k7",
    "outputId": "781c839f-8afa-45e8-fe48-6f0b00127b54"
   },
   "outputs": [
    {
     "name": "stdout",
     "output_type": "stream",
     "text": [
      "Drive already mounted at /content/drive; to attempt to forcibly remount, call drive.mount(\"/content/drive\", force_remount=True).\n"
     ]
    }
   ],
   "source": [
    "from google.colab import drive\n",
    "drive.mount('/content/drive')"
   ]
  },
  {
   "cell_type": "code",
   "execution_count": 47,
   "metadata": {
    "executionInfo": {
     "elapsed": 3,
     "status": "ok",
     "timestamp": 1676439209774,
     "user": {
      "displayName": "tru project",
      "userId": "12415419966224768655"
     },
     "user_tz": -330
    },
    "id": "-Yq5H80Zqxvb"
   },
   "outputs": [],
   "source": [
    "import torch\n",
    "from IPython.display import Image\n",
    "import shutil\n",
    "import os\n",
    "from random import choice"
   ]
  },
  {
   "cell_type": "markdown",
   "metadata": {
    "id": "aJxdjVIrqxvq"
   },
   "source": [
    "# Cloning YoloV5 git Repo"
   ]
  },
  {
   "cell_type": "code",
   "execution_count": 48,
   "metadata": {
    "colab": {
     "base_uri": "https://localhost:8080/"
    },
    "executionInfo": {
     "elapsed": 2887,
     "status": "ok",
     "timestamp": 1676439212658,
     "user": {
      "displayName": "tru project",
      "userId": "12415419966224768655"
     },
     "user_tz": -330
    },
    "id": "w_KSsW1yqxvs",
    "outputId": "50a9a407-fbfb-421a-d1f2-ed45ccb15870"
   },
   "outputs": [
    {
     "name": "stdout",
     "output_type": "stream",
     "text": [
      "Cloning into 'yolov5'...\n",
      "remote: Enumerating objects: 15143, done.\u001b[K\n",
      "remote: Counting objects: 100% (5/5), done.\u001b[K\n",
      "remote: Compressing objects: 100% (5/5), done.\u001b[K\n",
      "remote: Total 15143 (delta 0), reused 3 (delta 0), pack-reused 15138\u001b[K\n",
      "Receiving objects: 100% (15143/15143), 14.13 MiB | 15.81 MiB/s, done.\n",
      "Resolving deltas: 100% (10384/10384), done.\n"
     ]
    }
   ],
   "source": [
    "!git clone https://github.com/ultralytics/yolov5"
   ]
  },
  {
   "cell_type": "code",
   "execution_count": 49,
   "metadata": {
    "colab": {
     "base_uri": "https://localhost:8080/"
    },
    "executionInfo": {
     "elapsed": 16,
     "status": "ok",
     "timestamp": 1676439212659,
     "user": {
      "displayName": "tru project",
      "userId": "12415419966224768655"
     },
     "user_tz": -330
    },
    "id": "J2Jx_x-Hqxvy",
    "outputId": "97715cf0-abe1-4af8-a99c-89bfbc8abff9"
   },
   "outputs": [
    {
     "name": "stdout",
     "output_type": "stream",
     "text": [
      "/content/yolov5\n"
     ]
    }
   ],
   "source": [
    "%cd /content/yolov5/"
   ]
  },
  {
   "cell_type": "markdown",
   "metadata": {
    "id": "m_Ns3cQsqxv3"
   },
   "source": [
    "# Installing YoloV5 requirements files"
   ]
  },
  {
   "cell_type": "code",
   "execution_count": 50,
   "metadata": {
    "colab": {
     "base_uri": "https://localhost:8080/"
    },
    "executionInfo": {
     "elapsed": 14036,
     "status": "ok",
     "timestamp": 1676439226686,
     "user": {
      "displayName": "tru project",
      "userId": "12415419966224768655"
     },
     "user_tz": -330
    },
    "id": "S8YmlL2nqxv6",
    "outputId": "a27e3b6f-9f81-476e-fb6c-886a229cdabe"
   },
   "outputs": [
    {
     "name": "stdout",
     "output_type": "stream",
     "text": [
      "Looking in indexes: https://pypi.org/simple, https://us-python.pkg.dev/colab-wheels/public/simple/\n",
      "Collecting gitpython\n",
      "  Downloading GitPython-3.1.30-py3-none-any.whl (184 kB)\n",
      "\u001b[2K     \u001b[90m━━━━━━━━━━━━━━━━━━━━━━━━━━━━━━━━━━━━━━\u001b[0m \u001b[32m184.0/184.0 KB\u001b[0m \u001b[31m15.6 MB/s\u001b[0m eta \u001b[36m0:00:00\u001b[0m\n",
      "\u001b[?25hRequirement already satisfied: ipython in /usr/local/lib/python3.8/dist-packages (from -r requirements.txt (line 6)) (7.9.0)\n",
      "Requirement already satisfied: matplotlib>=3.2.2 in /usr/local/lib/python3.8/dist-packages (from -r requirements.txt (line 7)) (3.2.2)\n",
      "Requirement already satisfied: numpy>=1.18.5 in /usr/local/lib/python3.8/dist-packages (from -r requirements.txt (line 8)) (1.21.6)\n",
      "Requirement already satisfied: opencv-python>=4.1.1 in /usr/local/lib/python3.8/dist-packages (from -r requirements.txt (line 9)) (4.6.0.66)\n",
      "Requirement already satisfied: Pillow>=7.1.2 in /usr/local/lib/python3.8/dist-packages (from -r requirements.txt (line 10)) (7.1.2)\n",
      "Requirement already satisfied: psutil in /usr/local/lib/python3.8/dist-packages (from -r requirements.txt (line 11)) (5.4.8)\n",
      "Requirement already satisfied: PyYAML>=5.3.1 in /usr/local/lib/python3.8/dist-packages (from -r requirements.txt (line 12)) (6.0)\n",
      "Requirement already satisfied: requests>=2.23.0 in /usr/local/lib/python3.8/dist-packages (from -r requirements.txt (line 13)) (2.25.1)\n",
      "Requirement already satisfied: scipy>=1.4.1 in /usr/local/lib/python3.8/dist-packages (from -r requirements.txt (line 14)) (1.7.3)\n",
      "Collecting thop>=0.1.1\n",
      "  Downloading thop-0.1.1.post2209072238-py3-none-any.whl (15 kB)\n",
      "Requirement already satisfied: torch>=1.7.0 in /usr/local/lib/python3.8/dist-packages (from -r requirements.txt (line 16)) (1.13.1+cu116)\n",
      "Requirement already satisfied: torchvision>=0.8.1 in /usr/local/lib/python3.8/dist-packages (from -r requirements.txt (line 17)) (0.14.1+cu116)\n",
      "Requirement already satisfied: tqdm>=4.64.0 in /usr/local/lib/python3.8/dist-packages (from -r requirements.txt (line 18)) (4.64.1)\n",
      "Requirement already satisfied: tensorboard>=2.4.1 in /usr/local/lib/python3.8/dist-packages (from -r requirements.txt (line 22)) (2.11.2)\n",
      "Requirement already satisfied: pandas>=1.1.4 in /usr/local/lib/python3.8/dist-packages (from -r requirements.txt (line 27)) (1.3.5)\n",
      "Requirement already satisfied: seaborn>=0.11.0 in /usr/local/lib/python3.8/dist-packages (from -r requirements.txt (line 28)) (0.11.2)\n",
      "Collecting setuptools>=65.5.1\n",
      "  Downloading setuptools-67.3.1-py3-none-any.whl (1.1 MB)\n",
      "\u001b[2K     \u001b[90m━━━━━━━━━━━━━━━━━━━━━━━━━━━━━━━━━━━━━━━━\u001b[0m \u001b[32m1.1/1.1 MB\u001b[0m \u001b[31m72.3 MB/s\u001b[0m eta \u001b[36m0:00:00\u001b[0m\n",
      "\u001b[?25hRequirement already satisfied: wheel>=0.38.0 in /usr/local/lib/python3.8/dist-packages (from -r requirements.txt (line 43)) (0.38.4)\n",
      "Collecting gitdb<5,>=4.0.1\n",
      "  Downloading gitdb-4.0.10-py3-none-any.whl (62 kB)\n",
      "\u001b[2K     \u001b[90m━━━━━━━━━━━━━━━━━━━━━━━━━━━━━━━━━━━━━━━━\u001b[0m \u001b[32m62.7/62.7 KB\u001b[0m \u001b[31m7.9 MB/s\u001b[0m eta \u001b[36m0:00:00\u001b[0m\n",
      "\u001b[?25hCollecting jedi>=0.10\n",
      "  Downloading jedi-0.18.2-py2.py3-none-any.whl (1.6 MB)\n",
      "\u001b[2K     \u001b[90m━━━━━━━━━━━━━━━━━━━━━━━━━━━━━━━━━━━━━━━━\u001b[0m \u001b[32m1.6/1.6 MB\u001b[0m \u001b[31m81.0 MB/s\u001b[0m eta \u001b[36m0:00:00\u001b[0m\n",
      "\u001b[?25hRequirement already satisfied: prompt-toolkit<2.1.0,>=2.0.0 in /usr/local/lib/python3.8/dist-packages (from ipython->-r requirements.txt (line 6)) (2.0.10)\n",
      "Requirement already satisfied: pygments in /usr/local/lib/python3.8/dist-packages (from ipython->-r requirements.txt (line 6)) (2.6.1)\n",
      "Requirement already satisfied: pexpect in /usr/local/lib/python3.8/dist-packages (from ipython->-r requirements.txt (line 6)) (4.8.0)\n",
      "Requirement already satisfied: backcall in /usr/local/lib/python3.8/dist-packages (from ipython->-r requirements.txt (line 6)) (0.2.0)\n",
      "Requirement already satisfied: pickleshare in /usr/local/lib/python3.8/dist-packages (from ipython->-r requirements.txt (line 6)) (0.7.5)\n",
      "Requirement already satisfied: traitlets>=4.2 in /usr/local/lib/python3.8/dist-packages (from ipython->-r requirements.txt (line 6)) (5.7.1)\n",
      "Requirement already satisfied: decorator in /usr/local/lib/python3.8/dist-packages (from ipython->-r requirements.txt (line 6)) (4.4.2)\n",
      "Requirement already satisfied: pyparsing!=2.0.4,!=2.1.2,!=2.1.6,>=2.0.1 in /usr/local/lib/python3.8/dist-packages (from matplotlib>=3.2.2->-r requirements.txt (line 7)) (3.0.9)\n",
      "Requirement already satisfied: cycler>=0.10 in /usr/local/lib/python3.8/dist-packages (from matplotlib>=3.2.2->-r requirements.txt (line 7)) (0.11.0)\n",
      "Requirement already satisfied: kiwisolver>=1.0.1 in /usr/local/lib/python3.8/dist-packages (from matplotlib>=3.2.2->-r requirements.txt (line 7)) (1.4.4)\n",
      "Requirement already satisfied: python-dateutil>=2.1 in /usr/local/lib/python3.8/dist-packages (from matplotlib>=3.2.2->-r requirements.txt (line 7)) (2.8.2)\n",
      "Requirement already satisfied: idna<3,>=2.5 in /usr/local/lib/python3.8/dist-packages (from requests>=2.23.0->-r requirements.txt (line 13)) (2.10)\n",
      "Requirement already satisfied: certifi>=2017.4.17 in /usr/local/lib/python3.8/dist-packages (from requests>=2.23.0->-r requirements.txt (line 13)) (2022.12.7)\n",
      "Requirement already satisfied: urllib3<1.27,>=1.21.1 in /usr/local/lib/python3.8/dist-packages (from requests>=2.23.0->-r requirements.txt (line 13)) (1.24.3)\n",
      "Requirement already satisfied: chardet<5,>=3.0.2 in /usr/local/lib/python3.8/dist-packages (from requests>=2.23.0->-r requirements.txt (line 13)) (4.0.0)\n",
      "Requirement already satisfied: typing-extensions in /usr/local/lib/python3.8/dist-packages (from torch>=1.7.0->-r requirements.txt (line 16)) (4.4.0)\n",
      "Requirement already satisfied: protobuf<4,>=3.9.2 in /usr/local/lib/python3.8/dist-packages (from tensorboard>=2.4.1->-r requirements.txt (line 22)) (3.19.6)\n",
      "Requirement already satisfied: werkzeug>=1.0.1 in /usr/local/lib/python3.8/dist-packages (from tensorboard>=2.4.1->-r requirements.txt (line 22)) (1.0.1)\n",
      "Requirement already satisfied: tensorboard-plugin-wit>=1.6.0 in /usr/local/lib/python3.8/dist-packages (from tensorboard>=2.4.1->-r requirements.txt (line 22)) (1.8.1)\n",
      "Requirement already satisfied: google-auth<3,>=1.6.3 in /usr/local/lib/python3.8/dist-packages (from tensorboard>=2.4.1->-r requirements.txt (line 22)) (2.16.0)\n",
      "Requirement already satisfied: absl-py>=0.4 in /usr/local/lib/python3.8/dist-packages (from tensorboard>=2.4.1->-r requirements.txt (line 22)) (1.4.0)\n",
      "Requirement already satisfied: markdown>=2.6.8 in /usr/local/lib/python3.8/dist-packages (from tensorboard>=2.4.1->-r requirements.txt (line 22)) (3.4.1)\n",
      "Requirement already satisfied: google-auth-oauthlib<0.5,>=0.4.1 in /usr/local/lib/python3.8/dist-packages (from tensorboard>=2.4.1->-r requirements.txt (line 22)) (0.4.6)\n",
      "Requirement already satisfied: tensorboard-data-server<0.7.0,>=0.6.0 in /usr/local/lib/python3.8/dist-packages (from tensorboard>=2.4.1->-r requirements.txt (line 22)) (0.6.1)\n",
      "Requirement already satisfied: grpcio>=1.24.3 in /usr/local/lib/python3.8/dist-packages (from tensorboard>=2.4.1->-r requirements.txt (line 22)) (1.51.1)\n",
      "Requirement already satisfied: pytz>=2017.3 in /usr/local/lib/python3.8/dist-packages (from pandas>=1.1.4->-r requirements.txt (line 27)) (2022.7.1)\n",
      "Collecting smmap<6,>=3.0.1\n",
      "  Downloading smmap-5.0.0-py3-none-any.whl (24 kB)\n",
      "Requirement already satisfied: pyasn1-modules>=0.2.1 in /usr/local/lib/python3.8/dist-packages (from google-auth<3,>=1.6.3->tensorboard>=2.4.1->-r requirements.txt (line 22)) (0.2.8)\n",
      "Requirement already satisfied: rsa<5,>=3.1.4 in /usr/local/lib/python3.8/dist-packages (from google-auth<3,>=1.6.3->tensorboard>=2.4.1->-r requirements.txt (line 22)) (4.9)\n",
      "Requirement already satisfied: cachetools<6.0,>=2.0.0 in /usr/local/lib/python3.8/dist-packages (from google-auth<3,>=1.6.3->tensorboard>=2.4.1->-r requirements.txt (line 22)) (5.3.0)\n",
      "Requirement already satisfied: six>=1.9.0 in /usr/local/lib/python3.8/dist-packages (from google-auth<3,>=1.6.3->tensorboard>=2.4.1->-r requirements.txt (line 22)) (1.15.0)\n",
      "Requirement already satisfied: requests-oauthlib>=0.7.0 in /usr/local/lib/python3.8/dist-packages (from google-auth-oauthlib<0.5,>=0.4.1->tensorboard>=2.4.1->-r requirements.txt (line 22)) (1.3.1)\n",
      "Requirement already satisfied: parso<0.9.0,>=0.8.0 in /usr/local/lib/python3.8/dist-packages (from jedi>=0.10->ipython->-r requirements.txt (line 6)) (0.8.3)\n",
      "Requirement already satisfied: importlib-metadata>=4.4 in /usr/local/lib/python3.8/dist-packages (from markdown>=2.6.8->tensorboard>=2.4.1->-r requirements.txt (line 22)) (6.0.0)\n",
      "Requirement already satisfied: wcwidth in /usr/local/lib/python3.8/dist-packages (from prompt-toolkit<2.1.0,>=2.0.0->ipython->-r requirements.txt (line 6)) (0.2.6)\n",
      "Requirement already satisfied: ptyprocess>=0.5 in /usr/local/lib/python3.8/dist-packages (from pexpect->ipython->-r requirements.txt (line 6)) (0.7.0)\n",
      "Requirement already satisfied: zipp>=0.5 in /usr/local/lib/python3.8/dist-packages (from importlib-metadata>=4.4->markdown>=2.6.8->tensorboard>=2.4.1->-r requirements.txt (line 22)) (3.12.1)\n",
      "Requirement already satisfied: pyasn1<0.5.0,>=0.4.6 in /usr/local/lib/python3.8/dist-packages (from pyasn1-modules>=0.2.1->google-auth<3,>=1.6.3->tensorboard>=2.4.1->-r requirements.txt (line 22)) (0.4.8)\n",
      "Requirement already satisfied: oauthlib>=3.0.0 in /usr/local/lib/python3.8/dist-packages (from requests-oauthlib>=0.7.0->google-auth-oauthlib<0.5,>=0.4.1->tensorboard>=2.4.1->-r requirements.txt (line 22)) (3.2.2)\n",
      "Installing collected packages: smmap, setuptools, jedi, thop, gitdb, gitpython\n",
      "  Attempting uninstall: setuptools\n",
      "    Found existing installation: setuptools 57.4.0\n",
      "    Uninstalling setuptools-57.4.0:\n",
      "      Successfully uninstalled setuptools-57.4.0\n",
      "\u001b[31mERROR: pip's dependency resolver does not currently take into account all the packages that are installed. This behaviour is the source of the following dependency conflicts.\n",
      "cvxpy 1.2.3 requires setuptools<=64.0.2, but you have setuptools 67.3.1 which is incompatible.\u001b[0m\u001b[31m\n",
      "\u001b[0mSuccessfully installed gitdb-4.0.10 gitpython-3.1.30 jedi-0.18.2 setuptools-67.3.1 smmap-5.0.0 thop-0.1.1.post2209072238\n"
     ]
    }
   ],
   "source": [
    "!pip install -r requirements.txt"
   ]
  },
  {
   "cell_type": "code",
   "execution_count": 51,
   "metadata": {
    "colab": {
     "base_uri": "https://localhost:8080/"
    },
    "executionInfo": {
     "elapsed": 18,
     "status": "ok",
     "timestamp": 1676439226687,
     "user": {
      "displayName": "tru project",
      "userId": "12415419966224768655"
     },
     "user_tz": -330
    },
    "id": "mecmYO-eqxwC",
    "outputId": "f68e0bdb-87cb-43e5-8d0b-1aee1d9ad660"
   },
   "outputs": [
    {
     "name": "stdout",
     "output_type": "stream",
     "text": [
      "training images are :  17\n",
      "validation images are :  4\n"
     ]
    }
   ],
   "source": [
    "# arrays to store file names\n",
    "imgs = []\n",
    "xmls = []\n",
    "\n",
    "# setup directory names\n",
    "train_path = \"/content/drive/MyDrive/brain/Yolo/train/images\"\n",
    "val_path = \"/content/drive/MyDrive/brain/Yolo/valid/images\"\n",
    "crs_path = \"/content/drive/MyDrive/brain/Yolo/images\"\n",
    "\n",
    "train_ratio = 0.8\n",
    "val_ratio = 0.2\n",
    "\n",
    "# total count of imgs\n",
    "total_img_count = len(os.listdir(crs_path))/2\n",
    "\n",
    "# sorting count of imgs\n",
    "for (dirname,dirs, files) in os.walk(crs_path):\n",
    "#     print(files)\n",
    "    for filename in files:\n",
    "#         print(\"hello\")\n",
    "        if filename.endswith(\".txt\"):\n",
    "            xmls.append(filename)\n",
    "        else:\n",
    "            imgs.append(filename)\n",
    "\n",
    "# counting range for cycles\n",
    "count_for_train = int(len(imgs)*train_ratio)\n",
    "count_for_val = int(len(imgs)*val_ratio)\n",
    "print(\"training images are : \",count_for_train)\n",
    "print(\"validation images are : \",count_for_val)"
   ]
  },
  {
   "cell_type": "code",
   "execution_count": 52,
   "metadata": {
    "colab": {
     "base_uri": "https://localhost:8080/"
    },
    "executionInfo": {
     "elapsed": 11,
     "status": "ok",
     "timestamp": 1676439226687,
     "user": {
      "displayName": "tru project",
      "userId": "12415419966224768655"
     },
     "user_tz": -330
    },
    "id": "4-doHmYlqxwJ",
    "outputId": "fb5ecd9c-7d73-40c7-b16e-c76ba9c02e0b"
   },
   "outputs": [
    {
     "data": {
      "text/plain": [
       "22"
      ]
     },
     "execution_count": 52,
     "metadata": {},
     "output_type": "execute_result"
    }
   ],
   "source": [
    "len(imgs)"
   ]
  },
  {
   "cell_type": "code",
   "execution_count": 53,
   "metadata": {
    "colab": {
     "base_uri": "https://localhost:8080/"
    },
    "executionInfo": {
     "elapsed": 28645,
     "status": "ok",
     "timestamp": 1676439255324,
     "user": {
      "displayName": "tru project",
      "userId": "12415419966224768655"
     },
     "user_tz": -330
    },
    "id": "ktiE5Ul_qxwM",
    "outputId": "9580e452-4a43-43b3-e70f-7e72e07c6d24"
   },
   "outputs": [
    {
     "name": "stdout",
     "output_type": "stream",
     "text": [
      "images length -  1\n",
      "['Not-Cancer-23-_jpg.rf.9dd4c5cda6e22ac0c811983696c520e0.jpg'] ['Not-Cancer-23-_jpg.rf.9dd4c5cda6e22ac0c811983696c520e0.txt']\n"
     ]
    }
   ],
   "source": [
    "train_image_path = \"/content/drive/MyDrive/brain/Yolo/train/images\"\n",
    "train_label_path = \"/content/drive/MyDrive/brain/Yolo/train/labels\"\n",
    "val_image_path = \"/content/drive/MyDrive/brain/Yolo/valid/images\"\n",
    "val_label_path = \"/content/drive/MyDrive/brain/Yolo/valid/labels\"\n",
    "\n",
    "if not os.path.isdir(train_image_path):\n",
    "    os.makedirs(train_image_path)\n",
    "if not os.path.isdir(train_label_path):\n",
    "    os.makedirs(train_label_path)\n",
    "if not os.path.isdir(val_image_path):\n",
    "    os.makedirs(val_image_path)\n",
    "if not os.path.isdir(val_label_path):\n",
    "    os.makedirs(val_label_path)\n",
    "\n",
    "# cycle for train dir\n",
    "for x in range(count_for_train):\n",
    "    file_jpg = choice(imgs)\n",
    "    file_xml = file_jpg[:-4] + \".txt\"\n",
    "    \n",
    "    shutil.copy(os.path.join(crs_path,file_jpg),os.path.join(train_image_path,file_jpg))\n",
    "    shutil.copy(os.path.join(crs_path,file_xml),os.path.join(train_label_path,file_xml))\n",
    "    \n",
    "    imgs.remove(file_jpg)\n",
    "    xmls.remove(file_xml)\n",
    "    \n",
    "# cycle for test dir\n",
    "for x in range(count_for_val):\n",
    "    file_jpg = choice(imgs)\n",
    "    file_xml = file_jpg[:-4] + \".txt\"\n",
    "    \n",
    "    shutil.copy(os.path.join(crs_path,file_jpg),os.path.join(val_image_path,file_jpg))\n",
    "    shutil.copy(os.path.join(crs_path,file_xml),os.path.join(val_label_path,file_xml))\n",
    "    \n",
    "    imgs.remove(file_jpg)\n",
    "    xmls.remove(file_xml)\n",
    "\n",
    "# rest of files\n",
    "print(\"images length - \",len(imgs))\n",
    "print(imgs,xmls)\n",
    "for x in imgs:\n",
    "    file_jpg = x\n",
    "    file_xml = file_jpg[:-4] + \".txt\"\n",
    "    \n",
    "    shutil.copy(os.path.join(crs_path,file_jpg),os.path.join(val_image_path,file_jpg))\n",
    "    shutil.copy(os.path.join(crs_path,file_xml),os.path.join(val_label_path,file_xml))\n",
    "# shutil.copytree(crs_path,val_path)"
   ]
  },
  {
   "cell_type": "markdown",
   "metadata": {
    "id": "1tJdTAvLqxwQ"
   },
   "source": [
    "# Downloading dataset.yaml file from google cloud for the dataset"
   ]
  },
  {
   "cell_type": "code",
   "execution_count": 54,
   "metadata": {
    "colab": {
     "base_uri": "https://localhost:8080/"
    },
    "executionInfo": {
     "elapsed": 11,
     "status": "ok",
     "timestamp": 1676439255325,
     "user": {
      "displayName": "tru project",
      "userId": "12415419966224768655"
     },
     "user_tz": -330
    },
    "id": "mW1RMPJpqxwY",
    "outputId": "b5d4871c-e815-403e-ce36-da3f3b2a9e75"
   },
   "outputs": [
    {
     "name": "stdout",
     "output_type": "stream",
     "text": [
      "['train: /content/drive/MyDrive/brain/Yolo/train/images\\n', 'val: /content/drive/MyDrive/brain/Yolo/valid/images\\n', '\\n', '\\n', 'nc: 2\\n', \"names: ['NoTumor', 'Tumor']\\n\", '\\n', 'roboflow:\\n', '  workspace: project\\n', '  project: tumor-detection-eqxql\\n', '  version: 1\\n', '  license: CC BY 4.0\\n', '  url: https://universe.roboflow.com/project/tumor-detection-eqxql/dataset/1']\n"
     ]
    }
   ],
   "source": [
    "with open(r'/content/drive/MyDrive/brain/Yolo/data.yaml', 'r') as file:\n",
    "    lines = file.readlines()\n",
    "    print(lines)"
   ]
  },
  {
   "cell_type": "markdown",
   "metadata": {
    "id": "O3eP4FPDqxwd"
   },
   "source": [
    "# Training the YoloV5 model "
   ]
  },
  {
   "cell_type": "code",
   "execution_count": 55,
   "metadata": {
    "colab": {
     "base_uri": "https://localhost:8080/"
    },
    "executionInfo": {
     "elapsed": 401087,
     "status": "ok",
     "timestamp": 1676439656404,
     "user": {
      "displayName": "tru project",
      "userId": "12415419966224768655"
     },
     "user_tz": -330
    },
    "id": "wgO1duizqxwf",
    "outputId": "16b14265-699b-480a-e25f-3f5ea3e6d963",
    "scrolled": true
   },
   "outputs": [
    {
     "name": "stdout",
     "output_type": "stream",
     "text": [
      "/bin/bash: wandb: command not found\n",
      "\u001b[34m\u001b[1mtrain: \u001b[0mweights=yolov5s.pt, cfg=, data=/content/drive/MyDrive/brain/Yolo/data.yaml, hyp=data/hyps/hyp.scratch-low.yaml, epochs=100, batch_size=16, imgsz=415, rect=False, resume=False, nosave=False, noval=False, noautoanchor=False, noplots=False, evolve=None, bucket=, cache=ram, image_weights=False, device=, multi_scale=False, single_cls=False, optimizer=SGD, sync_bn=False, workers=2, project=runs/train, name=exp, exist_ok=False, quad=False, cos_lr=False, label_smoothing=0.0, patience=100, freeze=[0], save_period=-1, seed=0, local_rank=-1, entity=None, upload_dataset=False, bbox_interval=-1, artifact_alias=latest\n",
      "\u001b[34m\u001b[1mgithub: \u001b[0mup to date with https://github.com/ultralytics/yolov5 ✅\n",
      "YOLOv5 🚀 v7.0-100-g4d28fec Python-3.8.10 torch-1.13.1+cu116 CUDA:0 (Tesla T4, 15110MiB)\n",
      "\n",
      "\u001b[34m\u001b[1mhyperparameters: \u001b[0mlr0=0.01, lrf=0.01, momentum=0.937, weight_decay=0.0005, warmup_epochs=3.0, warmup_momentum=0.8, warmup_bias_lr=0.1, box=0.05, cls=0.5, cls_pw=1.0, obj=1.0, obj_pw=1.0, iou_t=0.2, anchor_t=4.0, fl_gamma=0.0, hsv_h=0.015, hsv_s=0.7, hsv_v=0.4, degrees=0.0, translate=0.1, scale=0.5, shear=0.0, perspective=0.0, flipud=0.0, fliplr=0.5, mosaic=1.0, mixup=0.0, copy_paste=0.0\n",
      "\u001b[34m\u001b[1mClearML: \u001b[0mrun 'pip install clearml' to automatically track, visualize and remotely train YOLOv5 🚀 in ClearML\n",
      "\u001b[34m\u001b[1mComet: \u001b[0mrun 'pip install comet_ml' to automatically track and visualize YOLOv5 🚀 runs in Comet\n",
      "\u001b[34m\u001b[1mTensorBoard: \u001b[0mStart with 'tensorboard --logdir runs/train', view at http://localhost:6006/\n",
      "2023-02-15 05:34:18.441013: I tensorflow/core/platform/cpu_feature_guard.cc:193] This TensorFlow binary is optimized with oneAPI Deep Neural Network Library (oneDNN) to use the following CPU instructions in performance-critical operations:  AVX2 AVX512F FMA\n",
      "To enable them in other operations, rebuild TensorFlow with the appropriate compiler flags.\n",
      "2023-02-15 05:34:19.315168: W tensorflow/compiler/xla/stream_executor/platform/default/dso_loader.cc:64] Could not load dynamic library 'libnvinfer.so.7'; dlerror: libnvinfer.so.7: cannot open shared object file: No such file or directory; LD_LIBRARY_PATH: /usr/local/lib/python3.8/dist-packages/cv2/../../lib64:/usr/local/lib/python3.8/dist-packages/cv2/../../lib64:/usr/lib64-nvidia\n",
      "2023-02-15 05:34:19.315290: W tensorflow/compiler/xla/stream_executor/platform/default/dso_loader.cc:64] Could not load dynamic library 'libnvinfer_plugin.so.7'; dlerror: libnvinfer_plugin.so.7: cannot open shared object file: No such file or directory; LD_LIBRARY_PATH: /usr/local/lib/python3.8/dist-packages/cv2/../../lib64:/usr/local/lib/python3.8/dist-packages/cv2/../../lib64:/usr/lib64-nvidia\n",
      "2023-02-15 05:34:19.315311: W tensorflow/compiler/tf2tensorrt/utils/py_utils.cc:38] TF-TRT Warning: Cannot dlopen some TensorRT libraries. If you would like to use Nvidia GPU with TensorRT, please make sure the missing libraries mentioned above are installed properly.\n",
      "Downloading https://ultralytics.com/assets/Arial.ttf to /root/.config/Ultralytics/Arial.ttf...\n",
      "100% 755k/755k [00:00<00:00, 96.0MB/s]\n",
      "Downloading https://github.com/ultralytics/yolov5/releases/download/v7.0/yolov5s.pt to yolov5s.pt...\n",
      "100% 14.1M/14.1M [00:00<00:00, 332MB/s]\n",
      "\n",
      "Overriding model.yaml nc=80 with nc=2\n",
      "\n",
      "                 from  n    params  module                                  arguments                     \n",
      "  0                -1  1      3520  models.common.Conv                      [3, 32, 6, 2, 2]              \n",
      "  1                -1  1     18560  models.common.Conv                      [32, 64, 3, 2]                \n",
      "  2                -1  1     18816  models.common.C3                        [64, 64, 1]                   \n",
      "  3                -1  1     73984  models.common.Conv                      [64, 128, 3, 2]               \n",
      "  4                -1  2    115712  models.common.C3                        [128, 128, 2]                 \n",
      "  5                -1  1    295424  models.common.Conv                      [128, 256, 3, 2]              \n",
      "  6                -1  3    625152  models.common.C3                        [256, 256, 3]                 \n",
      "  7                -1  1   1180672  models.common.Conv                      [256, 512, 3, 2]              \n",
      "  8                -1  1   1182720  models.common.C3                        [512, 512, 1]                 \n",
      "  9                -1  1    656896  models.common.SPPF                      [512, 512, 5]                 \n",
      " 10                -1  1    131584  models.common.Conv                      [512, 256, 1, 1]              \n",
      " 11                -1  1         0  torch.nn.modules.upsampling.Upsample    [None, 2, 'nearest']          \n",
      " 12           [-1, 6]  1         0  models.common.Concat                    [1]                           \n",
      " 13                -1  1    361984  models.common.C3                        [512, 256, 1, False]          \n",
      " 14                -1  1     33024  models.common.Conv                      [256, 128, 1, 1]              \n",
      " 15                -1  1         0  torch.nn.modules.upsampling.Upsample    [None, 2, 'nearest']          \n",
      " 16           [-1, 4]  1         0  models.common.Concat                    [1]                           \n",
      " 17                -1  1     90880  models.common.C3                        [256, 128, 1, False]          \n",
      " 18                -1  1    147712  models.common.Conv                      [128, 128, 3, 2]              \n",
      " 19          [-1, 14]  1         0  models.common.Concat                    [1]                           \n",
      " 20                -1  1    296448  models.common.C3                        [256, 256, 1, False]          \n",
      " 21                -1  1    590336  models.common.Conv                      [256, 256, 3, 2]              \n",
      " 22          [-1, 10]  1         0  models.common.Concat                    [1]                           \n",
      " 23                -1  1   1182720  models.common.C3                        [512, 512, 1, False]          \n",
      " 24      [17, 20, 23]  1     18879  models.yolo.Detect                      [2, [[10, 13, 16, 30, 33, 23], [30, 61, 62, 45, 59, 119], [116, 90, 156, 198, 373, 326]], [128, 256, 512]]\n",
      "Model summary: 214 layers, 7025023 parameters, 7025023 gradients, 16.0 GFLOPs\n",
      "\n",
      "Transferred 343/349 items from yolov5s.pt\n",
      "\u001b[34m\u001b[1mAMP: \u001b[0mchecks passed ✅\n",
      "WARNING ⚠️ --img-size 415 must be multiple of max stride 32, updating to 416\n",
      "\u001b[34m\u001b[1moptimizer:\u001b[0m SGD(lr=0.01) with parameter groups 57 weight(decay=0.0), 60 weight(decay=0.0005), 60 bias\n",
      "\u001b[34m\u001b[1malbumentations: \u001b[0mBlur(p=0.01, blur_limit=(3, 7)), MedianBlur(p=0.01, blur_limit=(3, 7)), ToGray(p=0.01), CLAHE(p=0.01, clip_limit=(1, 4.0), tile_grid_size=(8, 8))\n",
      "\u001b[34m\u001b[1mtrain: \u001b[0mScanning /content/drive/MyDrive/brain/Yolo/train/labels... 150 images, 0 backgrounds, 0 corrupt: 100% 150/150 [01:17<00:00,  1.95it/s]\n",
      "\u001b[34m\u001b[1mtrain: \u001b[0mNew cache created: /content/drive/MyDrive/brain/Yolo/train/labels.cache\n",
      "\u001b[34m\u001b[1mtrain: \u001b[0mCaching images (0.1GB ram): 100% 150/150 [00:00<00:00, 163.56it/s]\n",
      "\u001b[34m\u001b[1mval: \u001b[0mScanning /content/drive/MyDrive/brain/Yolo/valid/labels... 42 images, 1 backgrounds, 0 corrupt: 100% 42/42 [00:41<00:00,  1.02it/s]\n",
      "\u001b[34m\u001b[1mval: \u001b[0mNew cache created: /content/drive/MyDrive/brain/Yolo/valid/labels.cache\n",
      "\u001b[34m\u001b[1mval: \u001b[0mCaching images (0.0GB ram): 100% 42/42 [00:00<00:00, 66.99it/s]\n",
      "\n",
      "\u001b[34m\u001b[1mAutoAnchor: \u001b[0m4.84 anchors/target, 1.000 Best Possible Recall (BPR). Current anchors are a good fit to dataset ✅\n",
      "Plotting labels to runs/train/exp/labels.jpg... \n",
      "Image sizes 416 train, 416 val\n",
      "Using 2 dataloader workers\n",
      "Logging results to \u001b[1mruns/train/exp\u001b[0m\n",
      "Starting training for 100 epochs...\n",
      "\n",
      "      Epoch    GPU_mem   box_loss   obj_loss   cls_loss  Instances       Size\n",
      "       0/99      1.74G     0.1238    0.01683    0.03268          9        416: 100% 10/10 [00:04<00:00,  2.37it/s]\n",
      "                 Class     Images  Instances          P          R      mAP50   mAP50-95: 100% 2/2 [00:01<00:00,  1.28it/s]\n",
      "                   all         42         43    0.00174      0.545     0.0034    0.00076\n",
      "\n",
      "      Epoch    GPU_mem   box_loss   obj_loss   cls_loss  Instances       Size\n",
      "       1/99       2.1G     0.1051     0.0204     0.0273         21        416: 100% 10/10 [00:01<00:00,  5.34it/s]\n",
      "                 Class     Images  Instances          P          R      mAP50   mAP50-95: 100% 2/2 [00:00<00:00,  3.43it/s]\n",
      "                   all         42         43    0.00271      0.811    0.00532    0.00112\n",
      "\n",
      "      Epoch    GPU_mem   box_loss   obj_loss   cls_loss  Instances       Size\n",
      "       2/99       2.1G    0.08869    0.02133    0.02321         11        416: 100% 10/10 [00:02<00:00,  3.50it/s]\n",
      "                 Class     Images  Instances          P          R      mAP50   mAP50-95: 100% 2/2 [00:00<00:00,  3.22it/s]\n",
      "                   all         42         43    0.00298      0.882     0.0164    0.00357\n",
      "\n",
      "      Epoch    GPU_mem   box_loss   obj_loss   cls_loss  Instances       Size\n",
      "       3/99       2.1G    0.07963    0.02416    0.02093         17        416: 100% 10/10 [00:02<00:00,  3.96it/s]\n",
      "                 Class     Images  Instances          P          R      mAP50   mAP50-95: 100% 2/2 [00:00<00:00,  5.63it/s]\n",
      "                   all         42         43      0.183     0.0893     0.0807     0.0163\n",
      "\n",
      "      Epoch    GPU_mem   box_loss   obj_loss   cls_loss  Instances       Size\n",
      "       4/99       2.1G    0.07045    0.02378     0.0177         11        416: 100% 10/10 [00:01<00:00,  6.49it/s]\n",
      "                 Class     Images  Instances          P          R      mAP50   mAP50-95: 100% 2/2 [00:00<00:00,  5.75it/s]\n",
      "                   all         42         43      0.612      0.125      0.109     0.0341\n",
      "\n",
      "      Epoch    GPU_mem   box_loss   obj_loss   cls_loss  Instances       Size\n",
      "       5/99       2.1G      0.067    0.02277    0.01504         15        416: 100% 10/10 [00:01<00:00,  6.52it/s]\n",
      "                 Class     Images  Instances          P          R      mAP50   mAP50-95: 100% 2/2 [00:00<00:00,  6.40it/s]\n",
      "                   all         42         43      0.536      0.196     0.0357    0.00938\n",
      "\n",
      "      Epoch    GPU_mem   box_loss   obj_loss   cls_loss  Instances       Size\n",
      "       6/99       2.1G    0.06275     0.0234    0.01298         14        416: 100% 10/10 [00:01<00:00,  6.60it/s]\n",
      "                 Class     Images  Instances          P          R      mAP50   mAP50-95: 100% 2/2 [00:00<00:00,  6.36it/s]\n",
      "                   all         42         43      0.723      0.214      0.238     0.0667\n",
      "\n",
      "      Epoch    GPU_mem   box_loss   obj_loss   cls_loss  Instances       Size\n",
      "       7/99       2.1G    0.06182      0.022    0.01145         12        416: 100% 10/10 [00:02<00:00,  4.49it/s]\n",
      "                 Class     Images  Instances          P          R      mAP50   mAP50-95: 100% 2/2 [00:00<00:00,  4.91it/s]\n",
      "                   all         42         43      0.221      0.633      0.227      0.106\n",
      "\n",
      "      Epoch    GPU_mem   box_loss   obj_loss   cls_loss  Instances       Size\n",
      "       8/99       2.1G    0.05867    0.01985   0.009586          9        416: 100% 10/10 [00:02<00:00,  4.88it/s]\n",
      "                 Class     Images  Instances          P          R      mAP50   mAP50-95: 100% 2/2 [00:00<00:00,  6.74it/s]\n",
      "                   all         42         43      0.715      0.284      0.431      0.162\n",
      "\n",
      "      Epoch    GPU_mem   box_loss   obj_loss   cls_loss  Instances       Size\n",
      "       9/99       2.1G    0.06247     0.0205   0.008802         14        416: 100% 10/10 [00:01<00:00,  6.70it/s]\n",
      "                 Class     Images  Instances          P          R      mAP50   mAP50-95: 100% 2/2 [00:00<00:00,  7.40it/s]\n",
      "                   all         42         43      0.371      0.631      0.269     0.0952\n",
      "\n",
      "      Epoch    GPU_mem   box_loss   obj_loss   cls_loss  Instances       Size\n",
      "      10/99       2.1G    0.06259    0.01952   0.006884         11        416: 100% 10/10 [00:01<00:00,  6.87it/s]\n",
      "                 Class     Images  Instances          P          R      mAP50   mAP50-95: 100% 2/2 [00:00<00:00,  7.52it/s]\n",
      "                   all         42         43      0.432      0.649      0.317      0.102\n",
      "\n",
      "      Epoch    GPU_mem   box_loss   obj_loss   cls_loss  Instances       Size\n",
      "      11/99       2.1G    0.05708    0.01755    0.00677          8        416: 100% 10/10 [00:01<00:00,  6.71it/s]\n",
      "                 Class     Images  Instances          P          R      mAP50   mAP50-95: 100% 2/2 [00:00<00:00,  7.53it/s]\n",
      "                   all         42         43       0.56      0.576      0.469      0.191\n",
      "\n",
      "      Epoch    GPU_mem   box_loss   obj_loss   cls_loss  Instances       Size\n",
      "      12/99       2.1G     0.0579    0.01819   0.005517         11        416: 100% 10/10 [00:01<00:00,  6.83it/s]\n",
      "                 Class     Images  Instances          P          R      mAP50   mAP50-95: 100% 2/2 [00:00<00:00,  7.60it/s]\n",
      "                   all         42         43      0.455       0.62      0.452      0.122\n",
      "\n",
      "      Epoch    GPU_mem   box_loss   obj_loss   cls_loss  Instances       Size\n",
      "      13/99       2.1G    0.05386    0.01864   0.005126          9        416: 100% 10/10 [00:02<00:00,  4.80it/s]\n",
      "                 Class     Images  Instances          P          R      mAP50   mAP50-95: 100% 2/2 [00:00<00:00,  4.85it/s]\n",
      "                   all         42         43        0.6       0.55      0.515      0.209\n",
      "\n",
      "      Epoch    GPU_mem   box_loss   obj_loss   cls_loss  Instances       Size\n",
      "      14/99       2.1G    0.05993    0.01717   0.005593         10        416: 100% 10/10 [00:02<00:00,  4.37it/s]\n",
      "                 Class     Images  Instances          P          R      mAP50   mAP50-95: 100% 2/2 [00:00<00:00,  7.21it/s]\n",
      "                   all         42         43      0.406      0.711      0.536      0.197\n",
      "\n",
      "      Epoch    GPU_mem   box_loss   obj_loss   cls_loss  Instances       Size\n",
      "      15/99       2.1G    0.05225    0.01532   0.004623          9        416: 100% 10/10 [00:01<00:00,  6.78it/s]\n",
      "                 Class     Images  Instances          P          R      mAP50   mAP50-95: 100% 2/2 [00:00<00:00,  7.55it/s]\n",
      "                   all         42         43      0.338      0.732      0.464      0.209\n",
      "\n",
      "      Epoch    GPU_mem   box_loss   obj_loss   cls_loss  Instances       Size\n",
      "      16/99       2.1G    0.05026    0.01728   0.004125         13        416: 100% 10/10 [00:01<00:00,  6.73it/s]\n",
      "                 Class     Images  Instances          P          R      mAP50   mAP50-95: 100% 2/2 [00:00<00:00,  7.42it/s]\n",
      "                   all         42         43      0.549      0.826        0.6      0.242\n",
      "\n",
      "      Epoch    GPU_mem   box_loss   obj_loss   cls_loss  Instances       Size\n",
      "      17/99       2.1G    0.04938    0.01615   0.003707         13        416: 100% 10/10 [00:01<00:00,  6.71it/s]\n",
      "                 Class     Images  Instances          P          R      mAP50   mAP50-95: 100% 2/2 [00:00<00:00,  7.52it/s]\n",
      "                   all         42         43      0.515      0.705      0.617      0.289\n",
      "\n",
      "      Epoch    GPU_mem   box_loss   obj_loss   cls_loss  Instances       Size\n",
      "      18/99       2.1G     0.0471    0.01533   0.003123          9        416: 100% 10/10 [00:01<00:00,  6.55it/s]\n",
      "                 Class     Images  Instances          P          R      mAP50   mAP50-95: 100% 2/2 [00:00<00:00,  7.47it/s]\n",
      "                   all         42         43      0.658      0.709      0.705      0.372\n",
      "\n",
      "      Epoch    GPU_mem   box_loss   obj_loss   cls_loss  Instances       Size\n",
      "      19/99       2.1G    0.04844    0.01666   0.003517         11        416: 100% 10/10 [00:01<00:00,  5.22it/s]\n",
      "                 Class     Images  Instances          P          R      mAP50   mAP50-95: 100% 2/2 [00:00<00:00,  5.46it/s]\n",
      "                   all         42         43      0.743      0.746      0.789      0.383\n",
      "\n",
      "      Epoch    GPU_mem   box_loss   obj_loss   cls_loss  Instances       Size\n",
      "      20/99       2.1G    0.04485    0.01556   0.002834         11        416: 100% 10/10 [00:02<00:00,  4.49it/s]\n",
      "                 Class     Images  Instances          P          R      mAP50   mAP50-95: 100% 2/2 [00:00<00:00,  4.62it/s]\n",
      "                   all         42         43      0.716      0.753      0.795      0.378\n",
      "\n",
      "      Epoch    GPU_mem   box_loss   obj_loss   cls_loss  Instances       Size\n",
      "      21/99       2.1G    0.04715    0.01497   0.003637         11        416: 100% 10/10 [00:01<00:00,  6.81it/s]\n",
      "                 Class     Images  Instances          P          R      mAP50   mAP50-95: 100% 2/2 [00:00<00:00,  7.32it/s]\n",
      "                   all         42         43      0.589      0.785      0.698       0.36\n",
      "\n",
      "      Epoch    GPU_mem   box_loss   obj_loss   cls_loss  Instances       Size\n",
      "      22/99       2.1G     0.0471     0.0148   0.002281         10        416: 100% 10/10 [00:01<00:00,  6.52it/s]\n",
      "                 Class     Images  Instances          P          R      mAP50   mAP50-95: 100% 2/2 [00:00<00:00,  7.60it/s]\n",
      "                   all         42         43      0.505      0.755      0.709      0.389\n",
      "\n",
      "      Epoch    GPU_mem   box_loss   obj_loss   cls_loss  Instances       Size\n",
      "      23/99       2.1G    0.04308    0.01432   0.003908          8        416: 100% 10/10 [00:01<00:00,  6.68it/s]\n",
      "                 Class     Images  Instances          P          R      mAP50   mAP50-95: 100% 2/2 [00:00<00:00,  7.63it/s]\n",
      "                   all         42         43      0.826       0.75      0.825      0.436\n",
      "\n",
      "      Epoch    GPU_mem   box_loss   obj_loss   cls_loss  Instances       Size\n",
      "      24/99       2.1G    0.04293    0.01619   0.002558         16        416: 100% 10/10 [00:01<00:00,  7.01it/s]\n",
      "                 Class     Images  Instances          P          R      mAP50   mAP50-95: 100% 2/2 [00:00<00:00,  7.72it/s]\n",
      "                   all         42         43      0.862      0.823      0.875      0.467\n",
      "\n",
      "      Epoch    GPU_mem   box_loss   obj_loss   cls_loss  Instances       Size\n",
      "      25/99       2.1G    0.04249    0.01456   0.002276         10        416: 100% 10/10 [00:01<00:00,  5.65it/s]\n",
      "                 Class     Images  Instances          P          R      mAP50   mAP50-95: 100% 2/2 [00:00<00:00,  5.17it/s]\n",
      "                   all         42         43      0.721      0.693      0.793      0.395\n",
      "\n",
      "      Epoch    GPU_mem   box_loss   obj_loss   cls_loss  Instances       Size\n",
      "      26/99       2.1G    0.04218    0.01373   0.002294         16        416: 100% 10/10 [00:02<00:00,  4.22it/s]\n",
      "                 Class     Images  Instances          P          R      mAP50   mAP50-95: 100% 2/2 [00:00<00:00,  5.06it/s]\n",
      "                   all         42         43      0.871      0.731      0.866      0.475\n",
      "\n",
      "      Epoch    GPU_mem   box_loss   obj_loss   cls_loss  Instances       Size\n",
      "      27/99       2.1G    0.04389    0.01371   0.002649          6        416: 100% 10/10 [00:01<00:00,  6.61it/s]\n",
      "                 Class     Images  Instances          P          R      mAP50   mAP50-95: 100% 2/2 [00:00<00:00,  7.75it/s]\n",
      "                   all         42         43      0.883       0.76      0.874      0.512\n",
      "\n",
      "      Epoch    GPU_mem   box_loss   obj_loss   cls_loss  Instances       Size\n",
      "      28/99       2.1G    0.04078    0.01413   0.002433          9        416: 100% 10/10 [00:01<00:00,  6.94it/s]\n",
      "                 Class     Images  Instances          P          R      mAP50   mAP50-95: 100% 2/2 [00:00<00:00,  7.74it/s]\n",
      "                   all         42         43      0.827      0.706      0.825      0.404\n",
      "\n",
      "      Epoch    GPU_mem   box_loss   obj_loss   cls_loss  Instances       Size\n",
      "      29/99       2.1G    0.04062     0.0131   0.002146          8        416: 100% 10/10 [00:01<00:00,  6.63it/s]\n",
      "                 Class     Images  Instances          P          R      mAP50   mAP50-95: 100% 2/2 [00:00<00:00,  7.54it/s]\n",
      "                   all         42         43      0.741      0.831      0.815      0.415\n",
      "\n",
      "      Epoch    GPU_mem   box_loss   obj_loss   cls_loss  Instances       Size\n",
      "      30/99       2.1G     0.0406    0.01409   0.002145          9        416: 100% 10/10 [00:01<00:00,  6.92it/s]\n",
      "                 Class     Images  Instances          P          R      mAP50   mAP50-95: 100% 2/2 [00:00<00:00,  6.94it/s]\n",
      "                   all         42         43      0.679      0.686      0.777        0.4\n",
      "\n",
      "      Epoch    GPU_mem   box_loss   obj_loss   cls_loss  Instances       Size\n",
      "      31/99       2.1G    0.03797    0.01292   0.002584         12        416: 100% 10/10 [00:01<00:00,  6.85it/s]\n",
      "                 Class     Images  Instances          P          R      mAP50   mAP50-95: 100% 2/2 [00:00<00:00,  5.61it/s]\n",
      "                   all         42         43      0.747      0.844      0.855      0.436\n",
      "\n",
      "      Epoch    GPU_mem   box_loss   obj_loss   cls_loss  Instances       Size\n",
      "      32/99       2.1G    0.03932    0.01406   0.002868         14        416: 100% 10/10 [00:02<00:00,  4.43it/s]\n",
      "                 Class     Images  Instances          P          R      mAP50   mAP50-95: 100% 2/2 [00:00<00:00,  4.41it/s]\n",
      "                   all         42         43      0.722      0.695      0.778      0.407\n",
      "\n",
      "      Epoch    GPU_mem   box_loss   obj_loss   cls_loss  Instances       Size\n",
      "      33/99       2.1G    0.03928    0.01286   0.002085         13        416: 100% 10/10 [00:01<00:00,  5.87it/s]\n",
      "                 Class     Images  Instances          P          R      mAP50   mAP50-95: 100% 2/2 [00:00<00:00,  7.61it/s]\n",
      "                   all         42         43      0.859      0.822       0.91      0.439\n",
      "\n",
      "      Epoch    GPU_mem   box_loss   obj_loss   cls_loss  Instances       Size\n",
      "      34/99       2.1G    0.03704    0.01306   0.002882         12        416: 100% 10/10 [00:01<00:00,  6.96it/s]\n",
      "                 Class     Images  Instances          P          R      mAP50   mAP50-95: 100% 2/2 [00:00<00:00,  7.41it/s]\n",
      "                   all         42         43      0.896       0.85      0.879       0.49\n",
      "\n",
      "      Epoch    GPU_mem   box_loss   obj_loss   cls_loss  Instances       Size\n",
      "      35/99       2.1G    0.03633    0.01304    0.00206          9        416: 100% 10/10 [00:01<00:00,  6.85it/s]\n",
      "                 Class     Images  Instances          P          R      mAP50   mAP50-95: 100% 2/2 [00:00<00:00,  7.26it/s]\n",
      "                   all         42         43      0.843      0.835      0.849      0.489\n",
      "\n",
      "      Epoch    GPU_mem   box_loss   obj_loss   cls_loss  Instances       Size\n",
      "      36/99       2.1G    0.03742    0.01335   0.001605         16        416: 100% 10/10 [00:01<00:00,  6.82it/s]\n",
      "                 Class     Images  Instances          P          R      mAP50   mAP50-95: 100% 2/2 [00:00<00:00,  7.38it/s]\n",
      "                   all         42         43      0.891      0.766      0.889      0.502\n",
      "\n",
      "      Epoch    GPU_mem   box_loss   obj_loss   cls_loss  Instances       Size\n",
      "      37/99       2.1G    0.03682    0.01268   0.001802          7        416: 100% 10/10 [00:01<00:00,  6.82it/s]\n",
      "                 Class     Images  Instances          P          R      mAP50   mAP50-95: 100% 2/2 [00:00<00:00,  7.38it/s]\n",
      "                   all         42         43      0.844      0.842       0.91      0.506\n",
      "\n",
      "      Epoch    GPU_mem   box_loss   obj_loss   cls_loss  Instances       Size\n",
      "      38/99       2.1G    0.03448    0.01378   0.002285         17        416: 100% 10/10 [00:02<00:00,  4.51it/s]\n",
      "                 Class     Images  Instances          P          R      mAP50   mAP50-95: 100% 2/2 [00:00<00:00,  5.14it/s]\n",
      "                   all         42         43      0.839      0.844       0.89      0.439\n",
      "\n",
      "      Epoch    GPU_mem   box_loss   obj_loss   cls_loss  Instances       Size\n",
      "      39/99       2.1G    0.03722     0.0137   0.001765         19        416: 100% 10/10 [00:02<00:00,  4.42it/s]\n",
      "                 Class     Images  Instances          P          R      mAP50   mAP50-95: 100% 2/2 [00:00<00:00,  7.56it/s]\n",
      "                   all         42         43      0.851      0.822      0.848      0.458\n",
      "\n",
      "      Epoch    GPU_mem   box_loss   obj_loss   cls_loss  Instances       Size\n",
      "      40/99       2.1G    0.03583    0.01385   0.001742          9        416: 100% 10/10 [00:01<00:00,  6.89it/s]\n",
      "                 Class     Images  Instances          P          R      mAP50   mAP50-95: 100% 2/2 [00:00<00:00,  7.38it/s]\n",
      "                   all         42         43      0.873      0.812      0.877      0.479\n",
      "\n",
      "      Epoch    GPU_mem   box_loss   obj_loss   cls_loss  Instances       Size\n",
      "      41/99       2.1G    0.03378    0.01253   0.001009          8        416: 100% 10/10 [00:01<00:00,  6.87it/s]\n",
      "                 Class     Images  Instances          P          R      mAP50   mAP50-95: 100% 2/2 [00:00<00:00,  7.70it/s]\n",
      "                   all         42         43      0.904      0.869      0.948      0.502\n",
      "\n",
      "      Epoch    GPU_mem   box_loss   obj_loss   cls_loss  Instances       Size\n",
      "      42/99       2.1G    0.03493    0.01313    0.00118         10        416: 100% 10/10 [00:01<00:00,  7.18it/s]\n",
      "                 Class     Images  Instances          P          R      mAP50   mAP50-95: 100% 2/2 [00:00<00:00,  7.75it/s]\n",
      "                   all         42         43      0.907      0.882      0.948      0.549\n",
      "\n",
      "      Epoch    GPU_mem   box_loss   obj_loss   cls_loss  Instances       Size\n",
      "      43/99       2.1G    0.03563    0.01204   0.001231         12        416: 100% 10/10 [00:01<00:00,  6.77it/s]\n",
      "                 Class     Images  Instances          P          R      mAP50   mAP50-95: 100% 2/2 [00:00<00:00,  7.47it/s]\n",
      "                   all         42         43      0.852      0.882       0.92      0.539\n",
      "\n",
      "      Epoch    GPU_mem   box_loss   obj_loss   cls_loss  Instances       Size\n",
      "      44/99       2.1G    0.03465     0.0127   0.002149         11        416: 100% 10/10 [00:01<00:00,  5.21it/s]\n",
      "                 Class     Images  Instances          P          R      mAP50   mAP50-95: 100% 2/2 [00:00<00:00,  5.26it/s]\n",
      "                   all         42         43      0.935      0.869       0.95      0.574\n",
      "\n",
      "      Epoch    GPU_mem   box_loss   obj_loss   cls_loss  Instances       Size\n",
      "      45/99       2.1G    0.03141    0.01175   0.001482         10        416: 100% 10/10 [00:02<00:00,  4.38it/s]\n",
      "                 Class     Images  Instances          P          R      mAP50   mAP50-95: 100% 2/2 [00:00<00:00,  5.09it/s]\n",
      "                   all         42         43      0.894      0.854      0.938      0.557\n",
      "\n",
      "      Epoch    GPU_mem   box_loss   obj_loss   cls_loss  Instances       Size\n",
      "      46/99       2.1G    0.03343    0.01251   0.001234         10        416: 100% 10/10 [00:01<00:00,  6.88it/s]\n",
      "                 Class     Images  Instances          P          R      mAP50   mAP50-95: 100% 2/2 [00:00<00:00,  7.60it/s]\n",
      "                   all         42         43      0.908      0.888      0.924       0.58\n",
      "\n",
      "      Epoch    GPU_mem   box_loss   obj_loss   cls_loss  Instances       Size\n",
      "      47/99       2.1G    0.03515    0.01205   0.001525         14        416: 100% 10/10 [00:01<00:00,  6.62it/s]\n",
      "                 Class     Images  Instances          P          R      mAP50   mAP50-95: 100% 2/2 [00:00<00:00,  7.55it/s]\n",
      "                   all         42         43      0.896      0.879      0.917      0.566\n",
      "\n",
      "      Epoch    GPU_mem   box_loss   obj_loss   cls_loss  Instances       Size\n",
      "      48/99       2.1G    0.03274     0.0118   0.001445         10        416: 100% 10/10 [00:01<00:00,  6.89it/s]\n",
      "                 Class     Images  Instances          P          R      mAP50   mAP50-95: 100% 2/2 [00:00<00:00,  7.32it/s]\n",
      "                   all         42         43      0.916      0.861      0.923      0.553\n",
      "\n",
      "      Epoch    GPU_mem   box_loss   obj_loss   cls_loss  Instances       Size\n",
      "      49/99       2.1G    0.03269    0.01086   0.001211         10        416: 100% 10/10 [00:01<00:00,  6.68it/s]\n",
      "                 Class     Images  Instances          P          R      mAP50   mAP50-95: 100% 2/2 [00:00<00:00,  7.88it/s]\n",
      "                   all         42         43      0.952      0.813      0.957      0.489\n",
      "\n",
      "      Epoch    GPU_mem   box_loss   obj_loss   cls_loss  Instances       Size\n",
      "      50/99       2.1G    0.03258    0.01138    0.00148          8        416: 100% 10/10 [00:01<00:00,  6.76it/s]\n",
      "                 Class     Images  Instances          P          R      mAP50   mAP50-95: 100% 2/2 [00:00<00:00,  5.34it/s]\n",
      "                   all         42         43      0.921      0.862      0.933      0.546\n",
      "\n",
      "      Epoch    GPU_mem   box_loss   obj_loss   cls_loss  Instances       Size\n",
      "      51/99       2.1G    0.03134    0.01232  0.0009287         13        416: 100% 10/10 [00:02<00:00,  4.12it/s]\n",
      "                 Class     Images  Instances          P          R      mAP50   mAP50-95: 100% 2/2 [00:00<00:00,  5.59it/s]\n",
      "                   all         42         43      0.926      0.758      0.809      0.501\n",
      "\n",
      "      Epoch    GPU_mem   box_loss   obj_loss   cls_loss  Instances       Size\n",
      "      52/99       2.1G     0.0343     0.0113  0.0007749         11        416: 100% 10/10 [00:01<00:00,  5.90it/s]\n",
      "                 Class     Images  Instances          P          R      mAP50   mAP50-95: 100% 2/2 [00:00<00:00,  7.12it/s]\n",
      "                   all         42         43      0.917      0.767      0.822      0.485\n",
      "\n",
      "      Epoch    GPU_mem   box_loss   obj_loss   cls_loss  Instances       Size\n",
      "      53/99       2.1G     0.0311    0.01086   0.001481          9        416: 100% 10/10 [00:01<00:00,  6.86it/s]\n",
      "                 Class     Images  Instances          P          R      mAP50   mAP50-95: 100% 2/2 [00:00<00:00,  7.10it/s]\n",
      "                   all         42         43      0.904      0.869      0.889      0.504\n",
      "\n",
      "      Epoch    GPU_mem   box_loss   obj_loss   cls_loss  Instances       Size\n",
      "      54/99       2.1G    0.03172    0.01079  0.0009206         11        416: 100% 10/10 [00:01<00:00,  6.78it/s]\n",
      "                 Class     Images  Instances          P          R      mAP50   mAP50-95: 100% 2/2 [00:00<00:00,  7.70it/s]\n",
      "                   all         42         43      0.918      0.807      0.909      0.506\n",
      "\n",
      "      Epoch    GPU_mem   box_loss   obj_loss   cls_loss  Instances       Size\n",
      "      55/99       2.1G    0.03085    0.01151    0.00079         13        416: 100% 10/10 [00:01<00:00,  6.65it/s]\n",
      "                 Class     Images  Instances          P          R      mAP50   mAP50-95: 100% 2/2 [00:00<00:00,  7.22it/s]\n",
      "                   all         42         43       0.93      0.867      0.901      0.557\n",
      "\n",
      "      Epoch    GPU_mem   box_loss   obj_loss   cls_loss  Instances       Size\n",
      "      56/99       2.1G    0.03136     0.0114  0.0009819         11        416: 100% 10/10 [00:01<00:00,  6.71it/s]\n",
      "                 Class     Images  Instances          P          R      mAP50   mAP50-95: 100% 2/2 [00:00<00:00,  7.29it/s]\n",
      "                   all         42         43      0.931      0.875      0.938      0.562\n",
      "\n",
      "      Epoch    GPU_mem   box_loss   obj_loss   cls_loss  Instances       Size\n",
      "      57/99       2.1G    0.03097    0.01092  0.0009198         11        416: 100% 10/10 [00:02<00:00,  4.45it/s]\n",
      "                 Class     Images  Instances          P          R      mAP50   mAP50-95: 100% 2/2 [00:00<00:00,  5.00it/s]\n",
      "                   all         42         43      0.913      0.899      0.933      0.558\n",
      "\n",
      "      Epoch    GPU_mem   box_loss   obj_loss   cls_loss  Instances       Size\n",
      "      58/99       2.1G    0.02869    0.01189  0.0009657         15        416: 100% 10/10 [00:02<00:00,  4.46it/s]\n",
      "                 Class     Images  Instances          P          R      mAP50   mAP50-95: 100% 2/2 [00:00<00:00,  7.74it/s]\n",
      "                   all         42         43      0.912      0.926      0.951      0.558\n",
      "\n",
      "      Epoch    GPU_mem   box_loss   obj_loss   cls_loss  Instances       Size\n",
      "      59/99       2.1G    0.03042    0.01143  0.0009458         12        416: 100% 10/10 [00:01<00:00,  6.76it/s]\n",
      "                 Class     Images  Instances          P          R      mAP50   mAP50-95: 100% 2/2 [00:00<00:00,  7.91it/s]\n",
      "                   all         42         43      0.949      0.869      0.956      0.577\n",
      "\n",
      "      Epoch    GPU_mem   box_loss   obj_loss   cls_loss  Instances       Size\n",
      "      60/99       2.1G    0.03088    0.01196   0.002348         18        416: 100% 10/10 [00:01<00:00,  6.82it/s]\n",
      "                 Class     Images  Instances          P          R      mAP50   mAP50-95: 100% 2/2 [00:00<00:00,  7.52it/s]\n",
      "                   all         42         43      0.945      0.832      0.953      0.568\n",
      "\n",
      "      Epoch    GPU_mem   box_loss   obj_loss   cls_loss  Instances       Size\n",
      "      61/99       2.1G    0.02799    0.01059   0.001164         15        416: 100% 10/10 [00:01<00:00,  6.80it/s]\n",
      "                 Class     Images  Instances          P          R      mAP50   mAP50-95: 100% 2/2 [00:00<00:00,  7.58it/s]\n",
      "                   all         42         43       0.86      0.881      0.948      0.549\n",
      "\n",
      "      Epoch    GPU_mem   box_loss   obj_loss   cls_loss  Instances       Size\n",
      "      62/99       2.1G    0.02851    0.01087  0.0007234         15        416: 100% 10/10 [00:01<00:00,  6.94it/s]\n",
      "                 Class     Images  Instances          P          R      mAP50   mAP50-95: 100% 2/2 [00:00<00:00,  7.43it/s]\n",
      "                   all         42         43      0.917      0.841      0.953      0.565\n",
      "\n",
      "      Epoch    GPU_mem   box_loss   obj_loss   cls_loss  Instances       Size\n",
      "      63/99       2.1G    0.02979    0.01098  0.0006868         14        416: 100% 10/10 [00:01<00:00,  5.97it/s]\n",
      "                 Class     Images  Instances          P          R      mAP50   mAP50-95: 100% 2/2 [00:00<00:00,  4.66it/s]\n",
      "                   all         42         43       0.93      0.849      0.952      0.546\n",
      "\n",
      "      Epoch    GPU_mem   box_loss   obj_loss   cls_loss  Instances       Size\n",
      "      64/99       2.1G    0.02991    0.01114   0.001147         13        416: 100% 10/10 [00:02<00:00,  4.28it/s]\n",
      "                 Class     Images  Instances          P          R      mAP50   mAP50-95: 100% 2/2 [00:00<00:00,  4.99it/s]\n",
      "                   all         42         43      0.917      0.842       0.95      0.573\n",
      "\n",
      "      Epoch    GPU_mem   box_loss   obj_loss   cls_loss  Instances       Size\n",
      "      65/99       2.1G     0.0299    0.01105   0.001094          9        416: 100% 10/10 [00:01<00:00,  6.15it/s]\n",
      "                 Class     Images  Instances          P          R      mAP50   mAP50-95: 100% 2/2 [00:00<00:00,  7.92it/s]\n",
      "                   all         42         43      0.909      0.829       0.95      0.557\n",
      "\n",
      "      Epoch    GPU_mem   box_loss   obj_loss   cls_loss  Instances       Size\n",
      "      66/99       2.1G    0.02825    0.01028   0.001143         13        416: 100% 10/10 [00:01<00:00,  7.01it/s]\n",
      "                 Class     Images  Instances          P          R      mAP50   mAP50-95: 100% 2/2 [00:00<00:00,  7.85it/s]\n",
      "                   all         42         43      0.943      0.828       0.95      0.567\n",
      "\n",
      "      Epoch    GPU_mem   box_loss   obj_loss   cls_loss  Instances       Size\n",
      "      67/99       2.1G    0.02685    0.01104   0.000917         16        416: 100% 10/10 [00:01<00:00,  5.95it/s]\n",
      "                 Class     Images  Instances          P          R      mAP50   mAP50-95: 100% 2/2 [00:00<00:00,  7.79it/s]\n",
      "                   all         42         43      0.745      0.822      0.883      0.513\n",
      "\n",
      "      Epoch    GPU_mem   box_loss   obj_loss   cls_loss  Instances       Size\n",
      "      68/99       2.1G    0.02814      0.011   0.001366         12        416: 100% 10/10 [00:01<00:00,  6.74it/s]\n",
      "                 Class     Images  Instances          P          R      mAP50   mAP50-95: 100% 2/2 [00:00<00:00,  7.02it/s]\n",
      "                   all         42         43      0.878      0.719      0.912      0.513\n",
      "\n",
      "      Epoch    GPU_mem   box_loss   obj_loss   cls_loss  Instances       Size\n",
      "      69/99       2.1G    0.02706    0.01053  0.0007743         16        416: 100% 10/10 [00:01<00:00,  6.84it/s]\n",
      "                 Class     Images  Instances          P          R      mAP50   mAP50-95: 100% 2/2 [00:00<00:00,  7.73it/s]\n",
      "                   all         42         43      0.872       0.88       0.93      0.552\n",
      "\n",
      "      Epoch    GPU_mem   box_loss   obj_loss   cls_loss  Instances       Size\n",
      "      70/99       2.1G    0.02798    0.01075   0.001014         14        416: 100% 10/10 [00:02<00:00,  4.32it/s]\n",
      "                 Class     Images  Instances          P          R      mAP50   mAP50-95: 100% 2/2 [00:00<00:00,  5.06it/s]\n",
      "                   all         42         43      0.946      0.873      0.939      0.569\n",
      "\n",
      "      Epoch    GPU_mem   box_loss   obj_loss   cls_loss  Instances       Size\n",
      "      71/99       2.1G    0.02796    0.01104  0.0007837         12        416: 100% 10/10 [00:02<00:00,  4.57it/s]\n",
      "                 Class     Images  Instances          P          R      mAP50   mAP50-95: 100% 2/2 [00:00<00:00,  7.43it/s]\n",
      "                   all         42         43      0.948       0.89      0.952      0.565\n",
      "\n",
      "      Epoch    GPU_mem   box_loss   obj_loss   cls_loss  Instances       Size\n",
      "      72/99       2.1G    0.02571    0.01029  0.0007172         11        416: 100% 10/10 [00:01<00:00,  6.90it/s]\n",
      "                 Class     Images  Instances          P          R      mAP50   mAP50-95: 100% 2/2 [00:00<00:00,  7.64it/s]\n",
      "                   all         42         43      0.938      0.857      0.933      0.552\n",
      "\n",
      "      Epoch    GPU_mem   box_loss   obj_loss   cls_loss  Instances       Size\n",
      "      73/99       2.1G    0.02838   0.009247  0.0005822         12        416: 100% 10/10 [00:01<00:00,  6.88it/s]\n",
      "                 Class     Images  Instances          P          R      mAP50   mAP50-95: 100% 2/2 [00:00<00:00,  7.77it/s]\n",
      "                   all         42         43      0.875      0.896      0.935      0.584\n",
      "\n",
      "      Epoch    GPU_mem   box_loss   obj_loss   cls_loss  Instances       Size\n",
      "      74/99       2.1G    0.02537    0.01074  0.0006457         13        416: 100% 10/10 [00:01<00:00,  6.97it/s]\n",
      "                 Class     Images  Instances          P          R      mAP50   mAP50-95: 100% 2/2 [00:00<00:00,  7.64it/s]\n",
      "                   all         42         43      0.924      0.811      0.929      0.575\n",
      "\n",
      "      Epoch    GPU_mem   box_loss   obj_loss   cls_loss  Instances       Size\n",
      "      75/99       2.1G    0.02756    0.01068   0.000811         10        416: 100% 10/10 [00:01<00:00,  6.86it/s]\n",
      "                 Class     Images  Instances          P          R      mAP50   mAP50-95: 100% 2/2 [00:00<00:00,  7.20it/s]\n",
      "                   all         42         43       0.92      0.839      0.903      0.551\n",
      "\n",
      "      Epoch    GPU_mem   box_loss   obj_loss   cls_loss  Instances       Size\n",
      "      76/99       2.1G    0.02625    0.01103   0.000639         16        416: 100% 10/10 [00:01<00:00,  6.02it/s]\n",
      "                 Class     Images  Instances          P          R      mAP50   mAP50-95: 100% 2/2 [00:00<00:00,  4.74it/s]\n",
      "                   all         42         43      0.913      0.904       0.91      0.543\n",
      "\n",
      "      Epoch    GPU_mem   box_loss   obj_loss   cls_loss  Instances       Size\n",
      "      77/99       2.1G    0.02478     0.0098  0.0007902         11        416: 100% 10/10 [00:02<00:00,  4.36it/s]\n",
      "                 Class     Images  Instances          P          R      mAP50   mAP50-95: 100% 2/2 [00:00<00:00,  4.95it/s]\n",
      "                   all         42         43      0.924      0.878       0.88      0.554\n",
      "\n",
      "      Epoch    GPU_mem   box_loss   obj_loss   cls_loss  Instances       Size\n",
      "      78/99       2.1G    0.02644   0.009912  0.0005479         11        416: 100% 10/10 [00:01<00:00,  6.61it/s]\n",
      "                 Class     Images  Instances          P          R      mAP50   mAP50-95: 100% 2/2 [00:00<00:00,  7.76it/s]\n",
      "                   all         42         43      0.923      0.878      0.875       0.55\n",
      "\n",
      "      Epoch    GPU_mem   box_loss   obj_loss   cls_loss  Instances       Size\n",
      "      79/99       2.1G     0.0268    0.01146  0.0006053         14        416: 100% 10/10 [00:01<00:00,  6.80it/s]\n",
      "                 Class     Images  Instances          P          R      mAP50   mAP50-95: 100% 2/2 [00:00<00:00,  7.55it/s]\n",
      "                   all         42         43      0.908      0.852      0.859      0.547\n",
      "\n",
      "      Epoch    GPU_mem   box_loss   obj_loss   cls_loss  Instances       Size\n",
      "      80/99       2.1G    0.02457   0.009325    0.00066         11        416: 100% 10/10 [00:01<00:00,  6.76it/s]\n",
      "                 Class     Images  Instances          P          R      mAP50   mAP50-95: 100% 2/2 [00:00<00:00,  8.06it/s]\n",
      "                   all         42         43      0.922      0.882      0.883      0.543\n",
      "\n",
      "      Epoch    GPU_mem   box_loss   obj_loss   cls_loss  Instances       Size\n",
      "      81/99       2.1G    0.02341    0.01001  0.0004075         10        416: 100% 10/10 [00:01<00:00,  6.72it/s]\n",
      "                 Class     Images  Instances          P          R      mAP50   mAP50-95: 100% 2/2 [00:00<00:00,  7.61it/s]\n",
      "                   all         42         43      0.927      0.882      0.903      0.582\n",
      "\n",
      "      Epoch    GPU_mem   box_loss   obj_loss   cls_loss  Instances       Size\n",
      "      82/99       2.1G     0.0241    0.01029   0.001117         15        416: 100% 10/10 [00:01<00:00,  6.98it/s]\n",
      "                 Class     Images  Instances          P          R      mAP50   mAP50-95: 100% 2/2 [00:00<00:00,  7.95it/s]\n",
      "                   all         42         43       0.92      0.882      0.908      0.581\n",
      "\n",
      "      Epoch    GPU_mem   box_loss   obj_loss   cls_loss  Instances       Size\n",
      "      83/99       2.1G    0.02468    0.01019  0.0008657         11        416: 100% 10/10 [00:02<00:00,  4.38it/s]\n",
      "                 Class     Images  Instances          P          R      mAP50   mAP50-95: 100% 2/2 [00:00<00:00,  5.02it/s]\n",
      "                   all         42         43      0.916      0.878      0.937      0.573\n",
      "\n",
      "      Epoch    GPU_mem   box_loss   obj_loss   cls_loss  Instances       Size\n",
      "      84/99       2.1G    0.02382    0.01016  0.0005348         13        416: 100% 10/10 [00:02<00:00,  4.83it/s]\n",
      "                 Class     Images  Instances          P          R      mAP50   mAP50-95: 100% 2/2 [00:00<00:00,  7.18it/s]\n",
      "                   all         42         43      0.923      0.882      0.931      0.566\n",
      "\n",
      "      Epoch    GPU_mem   box_loss   obj_loss   cls_loss  Instances       Size\n",
      "      85/99       2.1G    0.02432   0.009362  0.0004336          8        416: 100% 10/10 [00:01<00:00,  6.98it/s]\n",
      "                 Class     Images  Instances          P          R      mAP50   mAP50-95: 100% 2/2 [00:00<00:00,  7.29it/s]\n",
      "                   all         42         43      0.917      0.864      0.939      0.578\n",
      "\n",
      "      Epoch    GPU_mem   box_loss   obj_loss   cls_loss  Instances       Size\n",
      "      86/99       2.1G    0.02322    0.01003  0.0005737         17        416: 100% 10/10 [00:01<00:00,  6.91it/s]\n",
      "                 Class     Images  Instances          P          R      mAP50   mAP50-95: 100% 2/2 [00:00<00:00,  7.55it/s]\n",
      "                   all         42         43      0.914      0.864      0.935      0.577\n",
      "\n",
      "      Epoch    GPU_mem   box_loss   obj_loss   cls_loss  Instances       Size\n",
      "      87/99       2.1G    0.02384     0.0102  0.0003919         11        416: 100% 10/10 [00:01<00:00,  6.90it/s]\n",
      "                 Class     Images  Instances          P          R      mAP50   mAP50-95: 100% 2/2 [00:00<00:00,  7.72it/s]\n",
      "                   all         42         43      0.906      0.882      0.928      0.562\n",
      "\n",
      "      Epoch    GPU_mem   box_loss   obj_loss   cls_loss  Instances       Size\n",
      "      88/99       2.1G     0.0223    0.01001  0.0004465          9        416: 100% 10/10 [00:01<00:00,  7.00it/s]\n",
      "                 Class     Images  Instances          P          R      mAP50   mAP50-95: 100% 2/2 [00:00<00:00,  7.59it/s]\n",
      "                   all         42         43      0.902      0.882      0.925      0.582\n",
      "\n",
      "      Epoch    GPU_mem   box_loss   obj_loss   cls_loss  Instances       Size\n",
      "      89/99       2.1G    0.02283   0.009811  0.0005232         15        416: 100% 10/10 [00:01<00:00,  5.72it/s]\n",
      "                 Class     Images  Instances          P          R      mAP50   mAP50-95: 100% 2/2 [00:00<00:00,  5.45it/s]\n",
      "                   all         42         43      0.932      0.887      0.932      0.578\n",
      "\n",
      "      Epoch    GPU_mem   box_loss   obj_loss   cls_loss  Instances       Size\n",
      "      90/99       2.1G    0.02247   0.009732   0.000549         15        416: 100% 10/10 [00:02<00:00,  4.37it/s]\n",
      "                 Class     Images  Instances          P          R      mAP50   mAP50-95: 100% 2/2 [00:00<00:00,  4.75it/s]\n",
      "                   all         42         43      0.927      0.893      0.926      0.589\n",
      "\n",
      "      Epoch    GPU_mem   box_loss   obj_loss   cls_loss  Instances       Size\n",
      "      91/99       2.1G    0.02281   0.009648  0.0003649         14        416: 100% 10/10 [00:01<00:00,  6.60it/s]\n",
      "                 Class     Images  Instances          P          R      mAP50   mAP50-95: 100% 2/2 [00:00<00:00,  7.63it/s]\n",
      "                   all         42         43      0.923        0.9      0.923      0.584\n",
      "\n",
      "      Epoch    GPU_mem   box_loss   obj_loss   cls_loss  Instances       Size\n",
      "      92/99       2.1G    0.02337   0.009427  0.0005231          8        416: 100% 10/10 [00:01<00:00,  6.94it/s]\n",
      "                 Class     Images  Instances          P          R      mAP50   mAP50-95: 100% 2/2 [00:00<00:00,  7.56it/s]\n",
      "                   all         42         43      0.926      0.905      0.921      0.591\n",
      "\n",
      "      Epoch    GPU_mem   box_loss   obj_loss   cls_loss  Instances       Size\n",
      "      93/99       2.1G    0.02293   0.009638  0.0004819         10        416: 100% 10/10 [00:01<00:00,  6.63it/s]\n",
      "                 Class     Images  Instances          P          R      mAP50   mAP50-95: 100% 2/2 [00:00<00:00,  7.38it/s]\n",
      "                   all         42         43      0.935      0.911      0.922       0.59\n",
      "\n",
      "      Epoch    GPU_mem   box_loss   obj_loss   cls_loss  Instances       Size\n",
      "      94/99       2.1G    0.02305    0.01005  0.0006688         17        416: 100% 10/10 [00:01<00:00,  6.76it/s]\n",
      "                 Class     Images  Instances          P          R      mAP50   mAP50-95: 100% 2/2 [00:00<00:00,  7.60it/s]\n",
      "                   all         42         43      0.935      0.909      0.923      0.592\n",
      "\n",
      "      Epoch    GPU_mem   box_loss   obj_loss   cls_loss  Instances       Size\n",
      "      95/99       2.1G    0.02398    0.01011  0.0006524         14        416: 100% 10/10 [00:01<00:00,  6.02it/s]\n",
      "                 Class     Images  Instances          P          R      mAP50   mAP50-95: 100% 2/2 [00:00<00:00,  5.49it/s]\n",
      "                   all         42         43      0.935      0.906      0.922      0.586\n",
      "\n",
      "      Epoch    GPU_mem   box_loss   obj_loss   cls_loss  Instances       Size\n",
      "      96/99       2.1G     0.0228    0.01006  0.0003734         15        416: 100% 10/10 [00:02<00:00,  4.14it/s]\n",
      "                 Class     Images  Instances          P          R      mAP50   mAP50-95: 100% 2/2 [00:00<00:00,  5.01it/s]\n",
      "                   all         42         43      0.929      0.873      0.919      0.566\n",
      "\n",
      "      Epoch    GPU_mem   box_loss   obj_loss   cls_loss  Instances       Size\n",
      "      97/99       2.1G    0.02271    0.01119   0.001172         19        416: 100% 10/10 [00:02<00:00,  4.09it/s]\n",
      "                 Class     Images  Instances          P          R      mAP50   mAP50-95: 100% 2/2 [00:00<00:00,  4.68it/s]\n",
      "                   all         42         43      0.929      0.873      0.918      0.581\n",
      "\n",
      "      Epoch    GPU_mem   box_loss   obj_loss   cls_loss  Instances       Size\n",
      "      98/99       2.1G    0.02297   0.009306  0.0006552          9        416: 100% 10/10 [00:02<00:00,  4.77it/s]\n",
      "                 Class     Images  Instances          P          R      mAP50   mAP50-95: 100% 2/2 [00:00<00:00,  7.17it/s]\n",
      "                   all         42         43       0.93      0.874      0.918      0.593\n",
      "\n",
      "      Epoch    GPU_mem   box_loss   obj_loss   cls_loss  Instances       Size\n",
      "      99/99       2.1G    0.02235   0.009584  0.0004424         12        416: 100% 10/10 [00:01<00:00,  6.59it/s]\n",
      "                 Class     Images  Instances          P          R      mAP50   mAP50-95: 100% 2/2 [00:00<00:00,  7.50it/s]\n",
      "                   all         42         43      0.928      0.872      0.917      0.597\n",
      "\n",
      "100 epochs completed in 0.068 hours.\n",
      "Optimizer stripped from runs/train/exp/weights/last.pt, 14.3MB\n",
      "Optimizer stripped from runs/train/exp/weights/best.pt, 14.3MB\n",
      "\n",
      "Validating runs/train/exp/weights/best.pt...\n",
      "Fusing layers... \n",
      "Model summary: 157 layers, 7015519 parameters, 0 gradients, 15.8 GFLOPs\n",
      "                 Class     Images  Instances          P          R      mAP50   mAP50-95: 100% 2/2 [00:00<00:00,  3.26it/s]\n",
      "                   all         42         43      0.929      0.873      0.917      0.597\n",
      "               NoTumor         42         15      0.988        0.8      0.882      0.656\n",
      "                 Tumor         42         28      0.869      0.945      0.953      0.538\n",
      "Results saved to \u001b[1mruns/train/exp\u001b[0m\n"
     ]
    }
   ],
   "source": [
    "!wandb disabled\n",
    "!python train.py --img 415 --batch 16 --epochs 100 --data /content/drive/MyDrive/brain/Yolo/data.yaml --weights yolov5s.pt --cache --workers 2"
   ]
  },
  {
   "cell_type": "code",
   "execution_count": 56,
   "metadata": {
    "colab": {
     "base_uri": "https://localhost:8080/"
    },
    "executionInfo": {
     "elapsed": 4294,
     "status": "ok",
     "timestamp": 1676439660672,
     "user": {
      "displayName": "tru project",
      "userId": "12415419966224768655"
     },
     "user_tz": -330
    },
    "id": "I3Qnx65bihv3",
    "outputId": "c290fb44-2285-40fe-d4e8-164d21208f87"
   },
   "outputs": [
    {
     "name": "stdout",
     "output_type": "stream",
     "text": [
      "  adding: content/yolov5/ (stored 0%)\n",
      "  adding: content/yolov5/detect.py (deflated 69%)\n",
      "  adding: content/yolov5/utils/ (stored 0%)\n",
      "  adding: content/yolov5/utils/autoanchor.py (deflated 60%)\n",
      "  adding: content/yolov5/utils/triton.py (deflated 67%)\n",
      "  adding: content/yolov5/utils/loggers/ (stored 0%)\n",
      "  adding: content/yolov5/utils/loggers/wandb/ (stored 0%)\n",
      "  adding: content/yolov5/utils/loggers/wandb/wandb_utils.py (deflated 66%)\n",
      "  adding: content/yolov5/utils/loggers/wandb/__init__.py (stored 0%)\n",
      "  adding: content/yolov5/utils/loggers/wandb/__pycache__/ (stored 0%)\n",
      "  adding: content/yolov5/utils/loggers/wandb/__pycache__/__init__.cpython-38.pyc (deflated 24%)\n",
      "  adding: content/yolov5/utils/loggers/wandb/__pycache__/wandb_utils.cpython-38.pyc (deflated 48%)\n",
      "  adding: content/yolov5/utils/loggers/__init__.py (deflated 73%)\n",
      "  adding: content/yolov5/utils/loggers/comet/ (stored 0%)\n",
      "  adding: content/yolov5/utils/loggers/comet/README.md (deflated 63%)\n",
      "  adding: content/yolov5/utils/loggers/comet/comet_utils.py (deflated 69%)\n",
      "  adding: content/yolov5/utils/loggers/comet/__init__.py (deflated 74%)\n",
      "  adding: content/yolov5/utils/loggers/comet/__pycache__/ (stored 0%)\n",
      "  adding: content/yolov5/utils/loggers/comet/__pycache__/__init__.cpython-38.pyc (deflated 51%)\n",
      "  adding: content/yolov5/utils/loggers/comet/__pycache__/comet_utils.cpython-38.pyc (deflated 47%)\n",
      "  adding: content/yolov5/utils/loggers/comet/hpo.py (deflated 68%)\n",
      "  adding: content/yolov5/utils/loggers/comet/optimizer_config.json (deflated 85%)\n",
      "  adding: content/yolov5/utils/loggers/__pycache__/ (stored 0%)\n",
      "  adding: content/yolov5/utils/loggers/__pycache__/__init__.cpython-38.pyc (deflated 51%)\n",
      "  adding: content/yolov5/utils/loggers/clearml/ (stored 0%)\n",
      "  adding: content/yolov5/utils/loggers/clearml/README.md (deflated 59%)\n",
      "  adding: content/yolov5/utils/loggers/clearml/__init__.py (stored 0%)\n",
      "  adding: content/yolov5/utils/loggers/clearml/clearml_utils.py (deflated 64%)\n",
      "  adding: content/yolov5/utils/loggers/clearml/__pycache__/ (stored 0%)\n",
      "  adding: content/yolov5/utils/loggers/clearml/__pycache__/__init__.cpython-38.pyc (deflated 24%)\n",
      "  adding: content/yolov5/utils/loggers/clearml/__pycache__/clearml_utils.cpython-38.pyc (deflated 44%)\n",
      "  adding: content/yolov5/utils/loggers/clearml/hpo.py (deflated 71%)\n",
      "  adding: content/yolov5/utils/__init__.py (deflated 54%)\n",
      "  adding: content/yolov5/utils/callbacks.py (deflated 68%)\n",
      "  adding: content/yolov5/utils/loss.py (deflated 69%)\n",
      "  adding: content/yolov5/utils/general.py (deflated 66%)\n",
      "  adding: content/yolov5/utils/__pycache__/ (stored 0%)\n",
      "  adding: content/yolov5/utils/__pycache__/callbacks.cpython-38.pyc (deflated 53%)\n",
      "  adding: content/yolov5/utils/__pycache__/dataloaders.cpython-38.pyc (deflated 51%)\n",
      "  adding: content/yolov5/utils/__pycache__/augmentations.cpython-38.pyc (deflated 48%)\n",
      "  adding: content/yolov5/utils/__pycache__/autobatch.cpython-38.pyc (deflated 36%)\n",
      "  adding: content/yolov5/utils/__pycache__/torch_utils.cpython-38.pyc (deflated 45%)\n",
      "  adding: content/yolov5/utils/__pycache__/loss.cpython-38.pyc (deflated 46%)\n",
      "  adding: content/yolov5/utils/__pycache__/plots.cpython-38.pyc (deflated 45%)\n",
      "  adding: content/yolov5/utils/__pycache__/autoanchor.cpython-38.pyc (deflated 42%)\n",
      "  adding: content/yolov5/utils/__pycache__/__init__.cpython-38.pyc (deflated 41%)\n",
      "  adding: content/yolov5/utils/__pycache__/metrics.cpython-38.pyc (deflated 47%)\n",
      "  adding: content/yolov5/utils/__pycache__/downloads.cpython-38.pyc (deflated 41%)\n",
      "  adding: content/yolov5/utils/__pycache__/general.cpython-38.pyc (deflated 50%)\n",
      "  adding: content/yolov5/utils/augmentations.py (deflated 66%)\n",
      "  adding: content/yolov5/utils/segment/ (stored 0%)\n",
      "  adding: content/yolov5/utils/segment/__init__.py (stored 0%)\n",
      "  adding: content/yolov5/utils/segment/loss.py (deflated 66%)\n",
      "  adding: content/yolov5/utils/segment/general.py (deflated 71%)\n",
      "  adding: content/yolov5/utils/segment/__pycache__/ (stored 0%)\n",
      "  adding: content/yolov5/utils/segment/__pycache__/__init__.cpython-38.pyc (deflated 27%)\n",
      "  adding: content/yolov5/utils/segment/__pycache__/general.cpython-38.pyc (deflated 51%)\n",
      "  adding: content/yolov5/utils/segment/augmentations.py (deflated 62%)\n",
      "  adding: content/yolov5/utils/segment/plots.py (deflated 64%)\n",
      "  adding: content/yolov5/utils/segment/dataloaders.py (deflated 72%)\n",
      "  adding: content/yolov5/utils/segment/metrics.py (deflated 76%)\n",
      "  adding: content/yolov5/utils/plots.py (deflated 65%)\n",
      "  adding: content/yolov5/utils/activations.py (deflated 68%)\n",
      "  adding: content/yolov5/utils/dataloaders.py (deflated 71%)\n",
      "  adding: content/yolov5/utils/torch_utils.py (deflated 64%)\n",
      "  adding: content/yolov5/utils/autobatch.py (deflated 56%)\n",
      "  adding: content/yolov5/utils/aws/ (stored 0%)\n",
      "  adding: content/yolov5/utils/aws/userdata.sh (deflated 47%)\n",
      "  adding: content/yolov5/utils/aws/__init__.py (stored 0%)\n",
      "  adding: content/yolov5/utils/aws/mime.sh (deflated 46%)\n",
      "  adding: content/yolov5/utils/aws/resume.py (deflated 46%)\n",
      "  adding: content/yolov5/utils/flask_rest_api/ (stored 0%)\n",
      "  adding: content/yolov5/utils/flask_rest_api/README.md (deflated 52%)\n",
      "  adding: content/yolov5/utils/flask_rest_api/restapi.py (deflated 48%)\n",
      "  adding: content/yolov5/utils/flask_rest_api/example_request.py (deflated 26%)\n",
      "  adding: content/yolov5/utils/downloads.py (deflated 61%)\n",
      "  adding: content/yolov5/utils/metrics.py (deflated 66%)\n",
      "  adding: content/yolov5/utils/google_app_engine/ (stored 0%)\n",
      "  adding: content/yolov5/utils/google_app_engine/Dockerfile (deflated 47%)\n",
      "  adding: content/yolov5/utils/google_app_engine/app.yaml (deflated 26%)\n",
      "  adding: content/yolov5/utils/google_app_engine/additional_requirements.txt (deflated 10%)\n",
      "  adding: content/yolov5/utils/docker/ (stored 0%)\n",
      "  adding: content/yolov5/utils/docker/Dockerfile (deflated 56%)\n",
      "  adding: content/yolov5/utils/docker/Dockerfile-arm64 (deflated 52%)\n",
      "  adding: content/yolov5/utils/docker/Dockerfile-cpu (deflated 51%)\n",
      "  adding: content/yolov5/setup.cfg (deflated 45%)\n",
      "  adding: content/yolov5/CITATION.cff (deflated 31%)\n",
      "  adding: content/yolov5/.pre-commit-config.yaml (deflated 59%)\n",
      "  adding: content/yolov5/.gitattributes (deflated 4%)\n",
      "  adding: content/yolov5/CONTRIBUTING.md (deflated 56%)\n",
      "  adding: content/yolov5/.dockerignore (deflated 56%)\n",
      "  adding: content/yolov5/README.md (deflated 79%)\n",
      "  adding: content/yolov5/requirements.txt (deflated 56%)\n",
      "  adding: content/yolov5/README.zh-CN.md (deflated 77%)\n",
      "  adding: content/yolov5/classify/ (stored 0%)\n",
      "  adding: content/yolov5/classify/predict.py (deflated 69%)\n",
      "  adding: content/yolov5/classify/train.py (deflated 66%)\n",
      "  adding: content/yolov5/classify/tutorial.ipynb (deflated 81%)\n",
      "  adding: content/yolov5/classify/val.py (deflated 66%)\n",
      "  adding: content/yolov5/data/ (stored 0%)\n",
      "  adding: content/yolov5/data/VisDrone.yaml (deflated 59%)\n",
      "  adding: content/yolov5/data/Argoverse.yaml (deflated 55%)\n",
      "  adding: content/yolov5/data/SKU-110K.yaml (deflated 52%)\n",
      "  adding: content/yolov5/data/coco128.yaml (deflated 47%)\n",
      "  adding: content/yolov5/data/Objects365.yaml (deflated 53%)\n",
      "  adding: content/yolov5/data/scripts/ (stored 0%)\n",
      "  adding: content/yolov5/data/scripts/get_coco.sh (deflated 60%)\n",
      "  adding: content/yolov5/data/scripts/download_weights.sh (deflated 43%)\n",
      "  adding: content/yolov5/data/scripts/get_imagenet.sh (deflated 53%)\n",
      "  adding: content/yolov5/data/scripts/get_coco128.sh (deflated 36%)\n",
      "  adding: content/yolov5/data/coco128-seg.yaml (deflated 47%)\n",
      "  adding: content/yolov5/data/images/ (stored 0%)\n",
      "  adding: content/yolov5/data/images/zidane.jpg (deflated 0%)\n",
      "  adding: content/yolov5/data/images/bus.jpg (deflated 1%)\n",
      "  adding: content/yolov5/data/ImageNet.yaml (deflated 54%)\n",
      "  adding: content/yolov5/data/coco.yaml (deflated 49%)\n",
      "  adding: content/yolov5/data/xView.yaml (deflated 57%)\n",
      "  adding: content/yolov5/data/GlobalWheat2020.yaml (deflated 54%)\n",
      "  adding: content/yolov5/data/hyps/ (stored 0%)\n",
      "  adding: content/yolov5/data/hyps/hyp.scratch-high.yaml (deflated 53%)\n",
      "  adding: content/yolov5/data/hyps/hyp.VOC.yaml (deflated 48%)\n",
      "  adding: content/yolov5/data/hyps/hyp.scratch-low.yaml (deflated 54%)\n",
      "  adding: content/yolov5/data/hyps/hyp.Objects365.yaml (deflated 40%)\n",
      "  adding: content/yolov5/data/hyps/hyp.scratch-med.yaml (deflated 53%)\n",
      "  adding: content/yolov5/data/hyps/hyp.no-augmentation.yaml (deflated 54%)\n",
      "  adding: content/yolov5/data/VOC.yaml (deflated 55%)\n",
      "  adding: content/yolov5/train.py (deflated 69%)\n",
      "  adding: content/yolov5/tutorial.ipynb (deflated 78%)\n",
      "  adding: content/yolov5/runs/ (stored 0%)\n",
      "  adding: content/yolov5/runs/train/ (stored 0%)\n",
      "  adding: content/yolov5/runs/train/exp/ (stored 0%)\n",
      "  adding: content/yolov5/runs/train/exp/train_batch0.jpg (deflated 5%)\n",
      "  adding: content/yolov5/runs/train/exp/weights/ (stored 0%)\n",
      "  adding: content/yolov5/runs/train/exp/weights/best.pt (deflated 8%)\n",
      "  adding: content/yolov5/runs/train/exp/weights/last.pt (deflated 8%)\n",
      "  adding: content/yolov5/runs/train/exp/F1_curve.png (deflated 12%)\n",
      "  adding: content/yolov5/runs/train/exp/labels.jpg (deflated 30%)\n",
      "  adding: content/yolov5/runs/train/exp/P_curve.png (deflated 17%)\n",
      "  adding: content/yolov5/runs/train/exp/confusion_matrix.png (deflated 34%)\n",
      "  adding: content/yolov5/runs/train/exp/results.png (deflated 8%)\n",
      "  adding: content/yolov5/runs/train/exp/val_batch1_pred.jpg (deflated 17%)\n",
      "  adding: content/yolov5/runs/train/exp/R_curve.png (deflated 13%)\n",
      "  adding: content/yolov5/runs/train/exp/results.csv (deflated 83%)\n",
      "  adding: content/yolov5/runs/train/exp/PR_curve.png (deflated 23%)\n",
      "  adding: content/yolov5/runs/train/exp/val_batch0_pred.jpg (deflated 13%)\n",
      "  adding: content/yolov5/runs/train/exp/hyp.yaml (deflated 45%)\n",
      "  adding: content/yolov5/runs/train/exp/val_batch0_labels.jpg (deflated 13%)\n",
      "  adding: content/yolov5/runs/train/exp/val_batch1_labels.jpg (deflated 17%)\n",
      "  adding: content/yolov5/runs/train/exp/events.out.tfevents.1676439260.c0e992757d92.11928.0 (deflated 39%)\n",
      "  adding: content/yolov5/runs/train/exp/labels_correlogram.jpg (deflated 36%)\n",
      "  adding: content/yolov5/runs/train/exp/opt.yaml (deflated 48%)\n",
      "  adding: content/yolov5/runs/train/exp/train_batch2.jpg (deflated 8%)\n",
      "  adding: content/yolov5/runs/train/exp/train_batch1.jpg (deflated 6%)\n",
      "  adding: content/yolov5/__pycache__/ (stored 0%)\n",
      "  adding: content/yolov5/__pycache__/val.cpython-38.pyc (deflated 43%)\n",
      "  adding: content/yolov5/segment/ (stored 0%)\n",
      "  adding: content/yolov5/segment/predict.py (deflated 70%)\n",
      "  adding: content/yolov5/segment/train.py (deflated 69%)\n",
      "  adding: content/yolov5/segment/tutorial.ipynb (deflated 75%)\n",
      "  adding: content/yolov5/segment/val.py (deflated 68%)\n",
      "  adding: content/yolov5/.github/ (stored 0%)\n",
      "  adding: content/yolov5/.github/ISSUE_TEMPLATE/ (stored 0%)\n",
      "  adding: content/yolov5/.github/ISSUE_TEMPLATE/question.yml (deflated 57%)\n",
      "  adding: content/yolov5/.github/ISSUE_TEMPLATE/feature-request.yml (deflated 61%)\n",
      "  adding: content/yolov5/.github/ISSUE_TEMPLATE/bug-report.yml (deflated 59%)\n",
      "  adding: content/yolov5/.github/ISSUE_TEMPLATE/config.yml (deflated 36%)\n",
      "  adding: content/yolov5/.github/dependabot.yml (deflated 60%)\n",
      "  adding: content/yolov5/.github/workflows/ (stored 0%)\n",
      "  adding: content/yolov5/.github/workflows/stale.yml (deflated 59%)\n",
      "  adding: content/yolov5/.github/workflows/ci-testing.yml (deflated 73%)\n",
      "  adding: content/yolov5/.github/workflows/codeql-analysis.yml (deflated 52%)\n",
      "  adding: content/yolov5/.github/workflows/translate-readme.yml (deflated 47%)\n",
      "  adding: content/yolov5/.github/workflows/docker.yml (deflated 67%)\n",
      "  adding: content/yolov5/.github/workflows/greetings.yml (deflated 61%)\n",
      "  adding: content/yolov5/.github/PULL_REQUEST_TEMPLATE.md (deflated 40%)\n",
      "  adding: content/yolov5/hubconf.py (deflated 73%)\n",
      "  adding: content/yolov5/.git/ (stored 0%)\n",
      "  adding: content/yolov5/.git/HEAD (stored 0%)\n",
      "  adding: content/yolov5/.git/packed-refs (deflated 49%)\n",
      "  adding: content/yolov5/.git/FETCH_HEAD (deflated 66%)\n",
      "  adding: content/yolov5/.git/logs/ (stored 0%)\n",
      "  adding: content/yolov5/.git/logs/HEAD (deflated 28%)\n",
      "  adding: content/yolov5/.git/logs/refs/ (stored 0%)\n",
      "  adding: content/yolov5/.git/logs/refs/remotes/ (stored 0%)\n",
      "  adding: content/yolov5/.git/logs/refs/remotes/origin/ (stored 0%)\n",
      "  adding: content/yolov5/.git/logs/refs/remotes/origin/HEAD (deflated 28%)\n",
      "  adding: content/yolov5/.git/logs/refs/heads/ (stored 0%)\n",
      "  adding: content/yolov5/.git/logs/refs/heads/master (deflated 28%)\n",
      "  adding: content/yolov5/.git/branches/ (stored 0%)\n",
      "  adding: content/yolov5/.git/info/ (stored 0%)\n",
      "  adding: content/yolov5/.git/info/exclude (deflated 28%)\n",
      "  adding: content/yolov5/.git/objects/ (stored 0%)\n",
      "  adding: content/yolov5/.git/objects/info/ (stored 0%)\n",
      "  adding: content/yolov5/.git/objects/pack/ (stored 0%)\n",
      "  adding: content/yolov5/.git/objects/pack/pack-b05aea4ecf5d27fc73e9624917d8aa3ded744143.pack (deflated 2%)\n",
      "  adding: content/yolov5/.git/objects/pack/pack-b05aea4ecf5d27fc73e9624917d8aa3ded744143.idx (deflated 2%)\n",
      "  adding: content/yolov5/.git/refs/ (stored 0%)\n",
      "  adding: content/yolov5/.git/refs/remotes/ (stored 0%)\n",
      "  adding: content/yolov5/.git/refs/remotes/origin/ (stored 0%)\n",
      "  adding: content/yolov5/.git/refs/remotes/origin/HEAD (stored 0%)\n",
      "  adding: content/yolov5/.git/refs/heads/ (stored 0%)\n",
      "  adding: content/yolov5/.git/refs/heads/master (stored 0%)\n",
      "  adding: content/yolov5/.git/refs/tags/ (stored 0%)\n",
      "  adding: content/yolov5/.git/hooks/ (stored 0%)\n",
      "  adding: content/yolov5/.git/hooks/post-update.sample (deflated 27%)\n",
      "  adding: content/yolov5/.git/hooks/prepare-commit-msg.sample (deflated 50%)\n",
      "  adding: content/yolov5/.git/hooks/pre-merge-commit.sample (deflated 39%)\n",
      "  adding: content/yolov5/.git/hooks/applypatch-msg.sample (deflated 42%)\n",
      "  adding: content/yolov5/.git/hooks/pre-push.sample (deflated 50%)\n",
      "  adding: content/yolov5/.git/hooks/update.sample (deflated 68%)\n",
      "  adding: content/yolov5/.git/hooks/pre-receive.sample (deflated 40%)\n",
      "  adding: content/yolov5/.git/hooks/fsmonitor-watchman.sample (deflated 52%)\n",
      "  adding: content/yolov5/.git/hooks/pre-applypatch.sample (deflated 38%)\n",
      "  adding: content/yolov5/.git/hooks/commit-msg.sample (deflated 44%)\n",
      "  adding: content/yolov5/.git/hooks/pre-rebase.sample (deflated 59%)\n",
      "  adding: content/yolov5/.git/hooks/pre-commit.sample (deflated 45%)\n",
      "  adding: content/yolov5/.git/description (deflated 14%)\n",
      "  adding: content/yolov5/.git/config (deflated 33%)\n",
      "  adding: content/yolov5/.git/index (deflated 54%)\n",
      "  adding: content/yolov5/benchmarks.py (deflated 68%)\n",
      "  adding: content/yolov5/models/ (stored 0%)\n",
      "  adding: content/yolov5/models/yolov5n.yaml (deflated 60%)\n",
      "  adding: content/yolov5/models/experimental.py (deflated 59%)\n",
      "  adding: content/yolov5/models/common.py (deflated 71%)\n",
      "  adding: content/yolov5/models/__init__.py (stored 0%)\n",
      "  adding: content/yolov5/models/hub/ (stored 0%)\n",
      "  adding: content/yolov5/models/hub/yolov5-p7.yaml (deflated 69%)\n",
      "  adding: content/yolov5/models/hub/yolov5-p2.yaml (deflated 66%)\n",
      "  adding: content/yolov5/models/hub/yolov5n6.yaml (deflated 65%)\n",
      "  adding: content/yolov5/models/hub/yolov5-p34.yaml (deflated 62%)\n",
      "  adding: content/yolov5/models/hub/yolov5s-transformer.yaml (deflated 60%)\n",
      "  adding: content/yolov5/models/hub/yolov5-panet.yaml (deflated 60%)\n",
      "  adding: content/yolov5/models/hub/yolov5-p6.yaml (deflated 66%)\n",
      "  adding: content/yolov5/models/hub/yolov5s6.yaml (deflated 65%)\n",
      "  adding: content/yolov5/models/hub/yolov3-tiny.yaml (deflated 60%)\n",
      "  adding: content/yolov5/models/hub/yolov5-bifpn.yaml (deflated 60%)\n",
      "  adding: content/yolov5/models/hub/yolov5x6.yaml (deflated 65%)\n",
      "  adding: content/yolov5/models/hub/yolov3.yaml (deflated 63%)\n",
      "  adding: content/yolov5/models/hub/yolov5m6.yaml (deflated 65%)\n",
      "  adding: content/yolov5/models/hub/yolov5l6.yaml (deflated 65%)\n",
      "  adding: content/yolov5/models/hub/yolov5s-ghost.yaml (deflated 62%)\n",
      "  adding: content/yolov5/models/hub/yolov5s-LeakyReLU.yaml (deflated 59%)\n",
      "  adding: content/yolov5/models/hub/yolov5-fpn.yaml (deflated 57%)\n",
      "  adding: content/yolov5/models/hub/anchors.yaml (deflated 72%)\n",
      "  adding: content/yolov5/models/hub/yolov3-spp.yaml (deflated 63%)\n",
      "  adding: content/yolov5/models/yolov5m.yaml (deflated 60%)\n",
      "  adding: content/yolov5/models/__pycache__/ (stored 0%)\n",
      "  adding: content/yolov5/models/__pycache__/__init__.cpython-38.pyc (deflated 28%)\n",
      "  adding: content/yolov5/models/__pycache__/yolo.cpython-38.pyc (deflated 49%)\n",
      "  adding: content/yolov5/models/__pycache__/common.cpython-38.pyc (deflated 56%)\n",
      "  adding: content/yolov5/models/__pycache__/experimental.cpython-38.pyc (deflated 45%)\n",
      "  adding: content/yolov5/models/yolov5l.yaml (deflated 61%)\n",
      "  adding: content/yolov5/models/segment/ (stored 0%)\n",
      "  adding: content/yolov5/models/segment/yolov5x-seg.yaml (deflated 60%)\n",
      "  adding: content/yolov5/models/segment/yolov5m-seg.yaml (deflated 60%)\n",
      "  adding: content/yolov5/models/segment/yolov5l-seg.yaml (deflated 60%)\n",
      "  adding: content/yolov5/models/segment/yolov5n-seg.yaml (deflated 60%)\n",
      "  adding: content/yolov5/models/segment/yolov5s-seg.yaml (deflated 60%)\n",
      "  adding: content/yolov5/models/yolov5x.yaml (deflated 60%)\n",
      "  adding: content/yolov5/models/yolo.py (deflated 67%)\n",
      "  adding: content/yolov5/models/yolov5s.yaml (deflated 60%)\n",
      "  adding: content/yolov5/models/tf.py (deflated 73%)\n",
      "  adding: content/yolov5/val.py (deflated 67%)\n",
      "  adding: content/yolov5/yolov5s.pt (deflated 9%)\n",
      "  adding: content/yolov5/LICENSE (deflated 66%)\n",
      "  adding: content/yolov5/export.py (deflated 71%)\n",
      "  adding: content/yolov5/.gitignore (deflated 55%)\n"
     ]
    }
   ],
   "source": [
    "!zip -r /content/drive/MyDrive/brain/file.zip /content/yolov5"
   ]
  },
  {
   "cell_type": "markdown",
   "metadata": {
    "id": "DFW53a5j5OUe"
   },
   "source": [
    "RCNN"
   ]
  },
  {
   "cell_type": "code",
   "execution_count": 12,
   "metadata": {
    "executionInfo": {
     "elapsed": 544,
     "status": "ok",
     "timestamp": 1676438560727,
     "user": {
      "displayName": "tru project",
      "userId": "12415419966224768655"
     },
     "user_tz": -330
    },
    "id": "dreo3zAYUmUm"
   },
   "outputs": [],
   "source": [
    "import numpy as np\n",
    "import pandas as pd\n",
    "import xml.etree.ElementTree as ET\n",
    "from sklearn.model_selection import train_test_split\n",
    "import matplotlib.pyplot as plt\n",
    "from pathlib import Path\n",
    "import random\n",
    "import os\n",
    "import cv2"
   ]
  },
  {
   "cell_type": "code",
   "execution_count": 13,
   "metadata": {
    "executionInfo": {
     "elapsed": 5,
     "status": "ok",
     "timestamp": 1676438563886,
     "user": {
      "displayName": "tru project",
      "userId": "12415419966224768655"
     },
     "user_tz": -330
    },
    "id": "b4cHGk1TVPXa"
   },
   "outputs": [],
   "source": [
    "import torch\n",
    "from torch.utils.data import Dataset, DataLoader\n",
    "import torch.optim as optim\n",
    "import torch.nn as nn\n",
    "import torch.nn.functional as F\n",
    "from torchvision import models"
   ]
  },
  {
   "cell_type": "code",
   "execution_count": 14,
   "metadata": {
    "executionInfo": {
     "elapsed": 7,
     "status": "ok",
     "timestamp": 1676438579596,
     "user": {
      "displayName": "tru project",
      "userId": "12415419966224768655"
     },
     "user_tz": -330
    },
    "id": "QYVAEoSfVRIt"
   },
   "outputs": [],
   "source": [
    "base_path = '/content/drive/MyDrive/brain/'\n",
    "ann_path = base_path + 'Annotations/'\n",
    "img_path = base_path + 'Images/'"
   ]
  },
  {
   "cell_type": "code",
   "execution_count": 15,
   "metadata": {
    "executionInfo": {
     "elapsed": 2,
     "status": "ok",
     "timestamp": 1676438582674,
     "user": {
      "displayName": "tru project",
      "userId": "12415419966224768655"
     },
     "user_tz": -330
    },
    "id": "Xb2suswcVfVA"
   },
   "outputs": [],
   "source": [
    "def get_file_list(root, file_type):\n",
    "    return [os.path.join(directory_path, f) for directory_path, directory_name, \n",
    "            files in os.walk(root) for f in files if f.endswith(file_type)]"
   ]
  },
  {
   "cell_type": "code",
   "execution_count": 17,
   "metadata": {
    "executionInfo": {
     "elapsed": 5,
     "status": "ok",
     "timestamp": 1676438596438,
     "user": {
      "displayName": "tru project",
      "userId": "12415419966224768655"
     },
     "user_tz": -330
    },
    "id": "TtVj1X4TViFB"
   },
   "outputs": [],
   "source": [
    "def get_train_df(ann_path, img_path):\n",
    "    ann_path_list = get_file_list(ann_path, '.xml')\n",
    "    ann_list = []\n",
    "    for a_path in ann_path_list:\n",
    "        root = ET.parse(a_path).getroot()\n",
    "        ann = {}\n",
    "        ann['filename'] = Path(str(img_path) + '/'+ root.find(\"./filename\").text)\n",
    "        ann['width'] = root.find(\"./size/width\").text\n",
    "        ann['height'] = root.find(\"./size/height\").text\n",
    "        ann['class'] = root.find(\"./object/name\").text\n",
    "        ann['xmin'] = int(root.find(\"./object/bndbox/xmin\").text)\n",
    "        ann['ymin'] = int(root.find(\"./object/bndbox/ymin\").text)\n",
    "        ann['xmax'] = int(root.find(\"./object/bndbox/ymax\").text)\n",
    "        ann_list.append(ann)\n",
    "    return pd.DataFrame(ann_list)"
   ]
  },
  {
   "cell_type": "code",
   "execution_count": 18,
   "metadata": {
    "executionInfo": {
     "elapsed": 2666,
     "status": "ok",
     "timestamp": 1676438601743,
     "user": {
      "displayName": "tru project",
      "userId": "12415419966224768655"
     },
     "user_tz": -330
    },
    "id": "4ZndAVlbVj3V"
   },
   "outputs": [],
   "source": [
    "df_train = get_train_df(ann_path, img_path)"
   ]
  },
  {
   "cell_type": "code",
   "execution_count": 19,
   "metadata": {
    "colab": {
     "base_uri": "https://localhost:8080/"
    },
    "executionInfo": {
     "elapsed": 679,
     "status": "ok",
     "timestamp": 1676438606659,
     "user": {
      "displayName": "tru project",
      "userId": "12415419966224768655"
     },
     "user_tz": -330
    },
    "id": "EMhPBdkdVmnp",
    "outputId": "6f79c8fe-f6bd-41de-cad2-28dec316514c"
   },
   "outputs": [
    {
     "data": {
      "text/plain": [
       "Tumor      96\n",
       "NoTumor    37\n",
       "Name: class, dtype: int64"
      ]
     },
     "execution_count": 19,
     "metadata": {},
     "output_type": "execute_result"
    }
   ],
   "source": [
    "df_train['class'].value_counts()"
   ]
  },
  {
   "cell_type": "code",
   "execution_count": 21,
   "metadata": {
    "colab": {
     "base_uri": "https://localhost:8080/",
     "height": 206
    },
    "executionInfo": {
     "elapsed": 937,
     "status": "ok",
     "timestamp": 1676438652542,
     "user": {
      "displayName": "tru project",
      "userId": "12415419966224768655"
     },
     "user_tz": -330
    },
    "id": "RdYRS-gUVqv1",
    "outputId": "0b16954a-f880-4e05-93df-fc4c88119c51"
   },
   "outputs": [
    {
     "data": {
      "text/html": [
       "\n",
       "  <div id=\"df-eaa6dff7-7bdb-4aa0-85d5-4040b4e6689a\">\n",
       "    <div class=\"colab-df-container\">\n",
       "      <div>\n",
       "<style scoped>\n",
       "    .dataframe tbody tr th:only-of-type {\n",
       "        vertical-align: middle;\n",
       "    }\n",
       "\n",
       "    .dataframe tbody tr th {\n",
       "        vertical-align: top;\n",
       "    }\n",
       "\n",
       "    .dataframe thead th {\n",
       "        text-align: right;\n",
       "    }\n",
       "</style>\n",
       "<table border=\"1\" class=\"dataframe\">\n",
       "  <thead>\n",
       "    <tr style=\"text-align: right;\">\n",
       "      <th></th>\n",
       "      <th>filename</th>\n",
       "      <th>width</th>\n",
       "      <th>height</th>\n",
       "      <th>class</th>\n",
       "      <th>xmin</th>\n",
       "      <th>ymin</th>\n",
       "      <th>xmax</th>\n",
       "    </tr>\n",
       "  </thead>\n",
       "  <tbody>\n",
       "    <tr>\n",
       "      <th>0</th>\n",
       "      <td>/content/drive/MyDrive/brain/Images/Cancer-112...</td>\n",
       "      <td>640</td>\n",
       "      <td>640</td>\n",
       "      <td>0</td>\n",
       "      <td>79</td>\n",
       "      <td>309</td>\n",
       "      <td>519</td>\n",
       "    </tr>\n",
       "    <tr>\n",
       "      <th>1</th>\n",
       "      <td>/content/drive/MyDrive/brain/Images/Cancer-112...</td>\n",
       "      <td>640</td>\n",
       "      <td>640</td>\n",
       "      <td>0</td>\n",
       "      <td>302</td>\n",
       "      <td>122</td>\n",
       "      <td>334</td>\n",
       "    </tr>\n",
       "    <tr>\n",
       "      <th>2</th>\n",
       "      <td>/content/drive/MyDrive/brain/Images/Cancer-111...</td>\n",
       "      <td>640</td>\n",
       "      <td>640</td>\n",
       "      <td>0</td>\n",
       "      <td>387</td>\n",
       "      <td>358</td>\n",
       "      <td>469</td>\n",
       "    </tr>\n",
       "    <tr>\n",
       "      <th>3</th>\n",
       "      <td>/content/drive/MyDrive/brain/Images/Cancer-111...</td>\n",
       "      <td>640</td>\n",
       "      <td>640</td>\n",
       "      <td>0</td>\n",
       "      <td>300</td>\n",
       "      <td>441</td>\n",
       "      <td>625</td>\n",
       "    </tr>\n",
       "    <tr>\n",
       "      <th>4</th>\n",
       "      <td>/content/drive/MyDrive/brain/Images/Cancer-110...</td>\n",
       "      <td>640</td>\n",
       "      <td>640</td>\n",
       "      <td>0</td>\n",
       "      <td>79</td>\n",
       "      <td>351</td>\n",
       "      <td>600</td>\n",
       "    </tr>\n",
       "  </tbody>\n",
       "</table>\n",
       "</div>\n",
       "      <button class=\"colab-df-convert\" onclick=\"convertToInteractive('df-eaa6dff7-7bdb-4aa0-85d5-4040b4e6689a')\"\n",
       "              title=\"Convert this dataframe to an interactive table.\"\n",
       "              style=\"display:none;\">\n",
       "        \n",
       "  <svg xmlns=\"http://www.w3.org/2000/svg\" height=\"24px\"viewBox=\"0 0 24 24\"\n",
       "       width=\"24px\">\n",
       "    <path d=\"M0 0h24v24H0V0z\" fill=\"none\"/>\n",
       "    <path d=\"M18.56 5.44l.94 2.06.94-2.06 2.06-.94-2.06-.94-.94-2.06-.94 2.06-2.06.94zm-11 1L8.5 8.5l.94-2.06 2.06-.94-2.06-.94L8.5 2.5l-.94 2.06-2.06.94zm10 10l.94 2.06.94-2.06 2.06-.94-2.06-.94-.94-2.06-.94 2.06-2.06.94z\"/><path d=\"M17.41 7.96l-1.37-1.37c-.4-.4-.92-.59-1.43-.59-.52 0-1.04.2-1.43.59L10.3 9.45l-7.72 7.72c-.78.78-.78 2.05 0 2.83L4 21.41c.39.39.9.59 1.41.59.51 0 1.02-.2 1.41-.59l7.78-7.78 2.81-2.81c.8-.78.8-2.07 0-2.86zM5.41 20L4 18.59l7.72-7.72 1.47 1.35L5.41 20z\"/>\n",
       "  </svg>\n",
       "      </button>\n",
       "      \n",
       "  <style>\n",
       "    .colab-df-container {\n",
       "      display:flex;\n",
       "      flex-wrap:wrap;\n",
       "      gap: 12px;\n",
       "    }\n",
       "\n",
       "    .colab-df-convert {\n",
       "      background-color: #E8F0FE;\n",
       "      border: none;\n",
       "      border-radius: 50%;\n",
       "      cursor: pointer;\n",
       "      display: none;\n",
       "      fill: #1967D2;\n",
       "      height: 32px;\n",
       "      padding: 0 0 0 0;\n",
       "      width: 32px;\n",
       "    }\n",
       "\n",
       "    .colab-df-convert:hover {\n",
       "      background-color: #E2EBFA;\n",
       "      box-shadow: 0px 1px 2px rgba(60, 64, 67, 0.3), 0px 1px 3px 1px rgba(60, 64, 67, 0.15);\n",
       "      fill: #174EA6;\n",
       "    }\n",
       "\n",
       "    [theme=dark] .colab-df-convert {\n",
       "      background-color: #3B4455;\n",
       "      fill: #D2E3FC;\n",
       "    }\n",
       "\n",
       "    [theme=dark] .colab-df-convert:hover {\n",
       "      background-color: #434B5C;\n",
       "      box-shadow: 0px 1px 3px 1px rgba(0, 0, 0, 0.15);\n",
       "      filter: drop-shadow(0px 1px 2px rgba(0, 0, 0, 0.3));\n",
       "      fill: #FFFFFF;\n",
       "    }\n",
       "  </style>\n",
       "\n",
       "      <script>\n",
       "        const buttonEl =\n",
       "          document.querySelector('#df-eaa6dff7-7bdb-4aa0-85d5-4040b4e6689a button.colab-df-convert');\n",
       "        buttonEl.style.display =\n",
       "          google.colab.kernel.accessAllowed ? 'block' : 'none';\n",
       "\n",
       "        async function convertToInteractive(key) {\n",
       "          const element = document.querySelector('#df-eaa6dff7-7bdb-4aa0-85d5-4040b4e6689a');\n",
       "          const dataTable =\n",
       "            await google.colab.kernel.invokeFunction('convertToInteractive',\n",
       "                                                     [key], {});\n",
       "          if (!dataTable) return;\n",
       "\n",
       "          const docLinkHtml = 'Like what you see? Visit the ' +\n",
       "            '<a target=\"_blank\" href=https://colab.research.google.com/notebooks/data_table.ipynb>data table notebook</a>'\n",
       "            + ' to learn more about interactive tables.';\n",
       "          element.innerHTML = '';\n",
       "          dataTable['output_type'] = 'display_data';\n",
       "          await google.colab.output.renderOutput(dataTable, element);\n",
       "          const docLink = document.createElement('div');\n",
       "          docLink.innerHTML = docLinkHtml;\n",
       "          element.appendChild(docLink);\n",
       "        }\n",
       "      </script>\n",
       "    </div>\n",
       "  </div>\n",
       "  "
      ],
      "text/plain": [
       "                                            filename width height  class  \\\n",
       "0  /content/drive/MyDrive/brain/Images/Cancer-112...   640    640      0   \n",
       "1  /content/drive/MyDrive/brain/Images/Cancer-112...   640    640      0   \n",
       "2  /content/drive/MyDrive/brain/Images/Cancer-111...   640    640      0   \n",
       "3  /content/drive/MyDrive/brain/Images/Cancer-111...   640    640      0   \n",
       "4  /content/drive/MyDrive/brain/Images/Cancer-110...   640    640      0   \n",
       "\n",
       "   xmin  ymin  xmax  \n",
       "0    79   309   519  \n",
       "1   302   122   334  \n",
       "2   387   358   469  \n",
       "3   300   441   625  \n",
       "4    79   351   600  "
      ]
     },
     "execution_count": 21,
     "metadata": {},
     "output_type": "execute_result"
    }
   ],
   "source": [
    "class_dict = {'Tumor': 0,'NoTumor':1}\n",
    "idx_to_class = {k:v for k,v in enumerate(list(class_dict.keys()))}\n",
    "df_train['class'] = df_train['class'].apply(lambda x:  class_dict[x])\n",
    "df_train.head()"
   ]
  },
  {
   "cell_type": "code",
   "execution_count": 22,
   "metadata": {
    "executionInfo": {
     "elapsed": 653,
     "status": "ok",
     "timestamp": 1676438658669,
     "user": {
      "displayName": "tru project",
      "userId": "12415419966224768655"
     },
     "user_tz": -330
    },
    "id": "I3ksRIyXVxec"
   },
   "outputs": [],
   "source": [
    "# additional functions\n",
    "\n",
    "def read_image(path):\n",
    "    return cv2.cvtColor(cv2.imread(str(path)), cv2.COLOR_BGR2RGB)\n",
    "\n",
    "def create_bb_array(x):\n",
    "    return np.array([x[5],x[4],x[1],x[2]])"
   ]
  },
  {
   "cell_type": "code",
   "execution_count": 23,
   "metadata": {
    "executionInfo": {
     "elapsed": 1310,
     "status": "ok",
     "timestamp": 1676438662860,
     "user": {
      "displayName": "tru project",
      "userId": "12415419966224768655"
     },
     "user_tz": -330
    },
    "id": "acedROhYV0Cr"
   },
   "outputs": [],
   "source": [
    "# masks functions\n",
    "\n",
    "def create_mask(bb, x):\n",
    "    rows,cols,*_ = x.shape\n",
    "    Y = np.zeros((rows, cols))\n",
    "    bb = bb.astype(np.int)\n",
    "    Y[bb[0]:bb[2], bb[1]:bb[3]] = 1.\n",
    "    return Y\n",
    "\n",
    "def mask_to_bb(Y):\n",
    "    cols, rows = np.nonzero(Y)\n",
    "    if len(cols)==0: \n",
    "        return np.zeros(4, dtype=np.float32)\n",
    "    top_row = np.min(rows)\n",
    "    left_col = np.min(cols)\n",
    "    bottom_row = np.max(rows)\n",
    "    right_col = np.max(cols)\n",
    "    return np.array([left_col, top_row, right_col, bottom_row], dtype=np.float32)"
   ]
  },
  {
   "cell_type": "code",
   "execution_count": 24,
   "metadata": {
    "executionInfo": {
     "elapsed": 5,
     "status": "ok",
     "timestamp": 1676438667153,
     "user": {
      "displayName": "tru project",
      "userId": "12415419966224768655"
     },
     "user_tz": -330
    },
    "id": "cLnVg32hV2t5"
   },
   "outputs": [],
   "source": [
    "def resize_image_bb(read_path, write_path, bb, sz):\n",
    "    im = read_image(read_path)\n",
    "    im_resized = cv2.resize(im, (int(1.49*sz), sz))\n",
    "    Y_resized = cv2.resize(create_mask(bb, im), (int(1.49*sz), sz))\n",
    "    new_path = str(write_path/read_path.parts[-1])\n",
    "    cv2.imwrite(new_path, cv2.cvtColor(im_resized, cv2.COLOR_RGB2BGR))\n",
    "    return new_path, mask_to_bb(Y_resized)"
   ]
  },
  {
   "cell_type": "code",
   "execution_count": 25,
   "metadata": {
    "executionInfo": {
     "elapsed": 685,
     "status": "ok",
     "timestamp": 1676438670667,
     "user": {
      "displayName": "tru project",
      "userId": "12415419966224768655"
     },
     "user_tz": -330
    },
    "id": "ECoWyKDXV4h0"
   },
   "outputs": [],
   "source": [
    "!rm -rf images_resized\n",
    "!mkdir images_resized"
   ]
  },
  {
   "cell_type": "code",
   "execution_count": 26,
   "metadata": {
    "colab": {
     "base_uri": "https://localhost:8080/"
    },
    "executionInfo": {
     "elapsed": 79191,
     "status": "ok",
     "timestamp": 1676438753012,
     "user": {
      "displayName": "tru project",
      "userId": "12415419966224768655"
     },
     "user_tz": -330
    },
    "id": "UL213lDxV53Y",
    "outputId": "4232f43d-db4f-4efc-a7f4-398b2caf9b15"
   },
   "outputs": [
    {
     "name": "stderr",
     "output_type": "stream",
     "text": [
      "<ipython-input-23-9a8ee5f7d9e1>:6: DeprecationWarning: `np.int` is a deprecated alias for the builtin `int`. To silence this warning, use `int` by itself. Doing this will not modify any behavior and is safe. When replacing `np.int`, you may wish to use e.g. `np.int64` or `np.int32` to specify the precision. If you wish to review your current use, check the release note link for additional information.\n",
      "Deprecated in NumPy 1.20; for more details and guidance: https://numpy.org/devdocs/release/1.20.0-notes.html#deprecations\n",
      "  bb = bb.astype(np.int)\n"
     ]
    }
   ],
   "source": [
    "new_paths = []\n",
    "new_bbs = []\n",
    "train_path_resized = Path('images_resized')\n",
    "\n",
    "for index, row in df_train.iterrows():\n",
    "    new_path,new_bb = resize_image_bb(row['filename'], train_path_resized, create_bb_array(row.values),300)\n",
    "    new_paths.append(new_path)\n",
    "    new_bbs.append(new_bb)\n",
    "    \n",
    "df_train['new_path'] = new_paths\n",
    "df_train['new_bb'] = new_bbs"
   ]
  },
  {
   "cell_type": "markdown",
   "metadata": {
    "id": "eze7QJxmV9EZ"
   },
   "source": [
    "DAta Augmentation"
   ]
  },
  {
   "cell_type": "code",
   "execution_count": 27,
   "metadata": {
    "executionInfo": {
     "elapsed": 617,
     "status": "ok",
     "timestamp": 1676438768006,
     "user": {
      "displayName": "tru project",
      "userId": "12415419966224768655"
     },
     "user_tz": -330
    },
    "id": "jtj3jSGoV_I4"
   },
   "outputs": [],
   "source": [
    "# crop functions\n",
    "\n",
    "def crop(im, r, c, target_r, target_c): \n",
    "    return im[r:r+target_r, c:c+target_c]\n",
    "\n",
    "def random_crop(x, r_pix=8):\n",
    "    r, c,*_ = x.shape\n",
    "    c_pix = round(r_pix*c/r)\n",
    "    rand_r = random.uniform(0, 1)\n",
    "    rand_c = random.uniform(0, 1)\n",
    "    start_r = np.floor(2*rand_r*r_pix).astype(int)\n",
    "    start_c = np.floor(2*rand_c*c_pix).astype(int)\n",
    "    return crop(x, start_r, start_c, r-2*r_pix, c-2*c_pix)\n",
    "\n",
    "def center_crop(x, r_pix=8):\n",
    "    r, c,*_ = x.shape\n",
    "    c_pix = round(r_pix*c/r)\n",
    "    return crop(x, r_pix, c_pix, r-2*r_pix, c-2*c_pix)\n",
    "\n",
    "def random_cropXY(x, Y, r_pix=8):\n",
    "    r, c,*_ = x.shape\n",
    "    c_pix = round(r_pix*c/r)\n",
    "    rand_r = random.uniform(0, 1)\n",
    "    rand_c = random.uniform(0, 1)\n",
    "    start_r = np.floor(2*rand_r*r_pix).astype(int)\n",
    "    start_c = np.floor(2*rand_c*c_pix).astype(int)\n",
    "    xx = crop(x, start_r, start_c, r-2*r_pix, c-2*c_pix)\n",
    "    YY = crop(Y, start_r, start_c, r-2*r_pix, c-2*c_pix)\n",
    "    return xx, YY"
   ]
  },
  {
   "cell_type": "code",
   "execution_count": 28,
   "metadata": {
    "executionInfo": {
     "elapsed": 1703,
     "status": "ok",
     "timestamp": 1676438773496,
     "user": {
      "displayName": "tru project",
      "userId": "12415419966224768655"
     },
     "user_tz": -330
    },
    "id": "eQW5ac0IV_oT"
   },
   "outputs": [],
   "source": [
    "def rotate_cv(im, deg, y=False, mode=cv2.BORDER_REFLECT, interpolation=cv2.INTER_AREA):\n",
    "    \"\"\" Rotates an image by deg degrees\"\"\"\n",
    "    r,c,*_ = im.shape\n",
    "    M = cv2.getRotationMatrix2D((c/2,r/2),deg,1)\n",
    "    if y:\n",
    "        return cv2.warpAffine(im, M,(c,r), borderMode=cv2.BORDER_CONSTANT)\n",
    "    return cv2.warpAffine(im,M,(c,r), borderMode=mode, flags=cv2.WARP_FILL_OUTLIERS+interpolation)"
   ]
  },
  {
   "cell_type": "code",
   "execution_count": 29,
   "metadata": {
    "executionInfo": {
     "elapsed": 1103,
     "status": "ok",
     "timestamp": 1676438785834,
     "user": {
      "displayName": "tru project",
      "userId": "12415419966224768655"
     },
     "user_tz": -330
    },
    "id": "NVNMkOUDWCpk"
   },
   "outputs": [],
   "source": [
    "# main function for augmentation\n",
    "\n",
    "def transformsXY(path, bb, transforms):\n",
    "    x = cv2.imread(str(path)).astype(np.float32)\n",
    "    x = cv2.cvtColor(x, cv2.COLOR_BGR2RGB)/255\n",
    "    Y = create_mask(bb, x)\n",
    "    if transforms:\n",
    "        rdeg = (np.random.random()-.50)*20\n",
    "        x = rotate_cv(x, rdeg)\n",
    "        Y = rotate_cv(Y, rdeg, y=True)\n",
    "        if np.random.random() > 0.5: \n",
    "            x = np.fliplr(x).copy()\n",
    "            Y = np.fliplr(Y).copy()\n",
    "        x, Y = random_cropXY(x, Y)\n",
    "    else:\n",
    "        x, Y = center_crop(x), center_crop(Y)\n",
    "    return x, mask_to_bb(Y)"
   ]
  },
  {
   "cell_type": "code",
   "execution_count": 30,
   "metadata": {
    "executionInfo": {
     "elapsed": 6,
     "status": "ok",
     "timestamp": 1676438788795,
     "user": {
      "displayName": "tru project",
      "userId": "12415419966224768655"
     },
     "user_tz": -330
    },
    "id": "Ec6MscA7WEH-"
   },
   "outputs": [],
   "source": [
    "# functions to create and show the boxes\n",
    "\n",
    "def create_corner_rect(bb, color='red'):\n",
    "    bb = np.array(bb, dtype=np.float32)\n",
    "    return plt.Rectangle((bb[1], bb[0]), bb[3]-bb[1], bb[2]-bb[0], color=color,\n",
    "                         fill=False, lw=3)\n",
    "\n",
    "def show_corner_bb(im, bb):\n",
    "    plt.imshow(im)\n",
    "    plt.gca().add_patch(create_corner_rect(bb))"
   ]
  },
  {
   "cell_type": "code",
   "execution_count": 31,
   "metadata": {
    "colab": {
     "base_uri": "https://localhost:8080/"
    },
    "executionInfo": {
     "elapsed": 10,
     "status": "ok",
     "timestamp": 1676438793382,
     "user": {
      "displayName": "tru project",
      "userId": "12415419966224768655"
     },
     "user_tz": -330
    },
    "id": "kK5mvlFRWFrU",
    "outputId": "7acc6aff-37da-4771-cd18-f5e64f18a12b"
   },
   "outputs": [
    {
     "data": {
      "text/plain": [
       "array([ 87.,  78., 299., 446.], dtype=float32)"
      ]
     },
     "execution_count": 31,
     "metadata": {},
     "output_type": "execute_result"
    }
   ],
   "source": [
    "df_train.values[10][8]"
   ]
  },
  {
   "cell_type": "code",
   "execution_count": 32,
   "metadata": {
    "executionInfo": {
     "elapsed": 773,
     "status": "ok",
     "timestamp": 1676438797613,
     "user": {
      "displayName": "tru project",
      "userId": "12415419966224768655"
     },
     "user_tz": -330
    },
    "id": "D0FupheLWHLv"
   },
   "outputs": [],
   "source": [
    "# before transformation\n",
    "\n",
    "im = cv2.imread(str(df_train.values[10][8]))\n",
    "#im = cv2.cvtColor(im, cv2.COLOR_BGR2RGB)\n",
    "#show_corner_bb(im, df_train.values[10][8])"
   ]
  },
  {
   "cell_type": "code",
   "execution_count": 33,
   "metadata": {
    "executionInfo": {
     "elapsed": 7,
     "status": "ok",
     "timestamp": 1676438799370,
     "user": {
      "displayName": "tru project",
      "userId": "12415419966224768655"
     },
     "user_tz": -330
    },
    "id": "9NyL2RDPWJlx"
   },
   "outputs": [],
   "source": [
    "df_train = df_train.reset_index()\n",
    "\n",
    "X = df_train[['new_path', 'new_bb']]\n",
    "y = df_train['class']"
   ]
  },
  {
   "cell_type": "code",
   "execution_count": 34,
   "metadata": {
    "executionInfo": {
     "elapsed": 5,
     "status": "ok",
     "timestamp": 1676438803365,
     "user": {
      "displayName": "tru project",
      "userId": "12415419966224768655"
     },
     "user_tz": -330
    },
    "id": "w7a033usWMhi"
   },
   "outputs": [],
   "source": [
    "X_train, X_test, y_train, y_test = train_test_split(X, y, test_size=0.3, random_state=34)"
   ]
  },
  {
   "cell_type": "code",
   "execution_count": 35,
   "metadata": {
    "executionInfo": {
     "elapsed": 5,
     "status": "ok",
     "timestamp": 1676438805639,
     "user": {
      "displayName": "tru project",
      "userId": "12415419966224768655"
     },
     "user_tz": -330
    },
    "id": "YrjWjVxdWNxO"
   },
   "outputs": [],
   "source": [
    "class RoadDataset(Dataset):\n",
    "    def __init__(self, paths, bb, y, transforms=False):\n",
    "        self.transforms = transforms\n",
    "        self.paths = paths.values\n",
    "        self.bb = bb.values\n",
    "        self.y = y.values\n",
    "        \n",
    "    def normalize(self, im):\n",
    "        imagenet_stats = np.array([[0.485, 0.456, 0.406], [0.229, 0.224, 0.225]])\n",
    "        return (im - imagenet_stats[0])/imagenet_stats[1]\n",
    "    \n",
    "    def __len__(self):\n",
    "        return len(self.paths)\n",
    "    \n",
    "    def __getitem__(self, idx):\n",
    "        path = self.paths[idx]\n",
    "        y_class = self.y[idx]\n",
    "        x, y_bb = transformsXY(path, self.bb[idx], self.transforms)\n",
    "        x = self.normalize(x)\n",
    "        x = np.rollaxis(x, 2)\n",
    "        return x, y_class, y_bb"
   ]
  },
  {
   "cell_type": "code",
   "execution_count": 36,
   "metadata": {
    "executionInfo": {
     "elapsed": 2,
     "status": "ok",
     "timestamp": 1676438810062,
     "user": {
      "displayName": "tru project",
      "userId": "12415419966224768655"
     },
     "user_tz": -330
    },
    "id": "bDK5wzn5WPKe"
   },
   "outputs": [],
   "source": [
    "batch_size = 64\n",
    "\n",
    "train_ds = RoadDataset(X_train['new_path'],X_train['new_bb'] ,y_train, transforms=True)\n",
    "valid_ds = RoadDataset(X_test['new_path'],X_test['new_bb'],y_test)\n",
    "\n",
    "train_dl = DataLoader(train_ds, batch_size=batch_size, shuffle=True)\n",
    "valid_dl = DataLoader(valid_ds, batch_size=batch_size)"
   ]
  },
  {
   "cell_type": "code",
   "execution_count": 37,
   "metadata": {
    "executionInfo": {
     "elapsed": 6,
     "status": "ok",
     "timestamp": 1676438811863,
     "user": {
      "displayName": "tru project",
      "userId": "12415419966224768655"
     },
     "user_tz": -330
    },
    "id": "9i8BZUKBWRQ-"
   },
   "outputs": [],
   "source": [
    "class RCNN(nn.Module):\n",
    "    def __init__(self):\n",
    "        super(RCNN, self).__init__()\n",
    "        resnet = models.resnet34(pretrained=True)\n",
    "        layers = list(resnet.children())[:8]\n",
    "        self.features1 = nn.Sequential(*layers[:6])\n",
    "        self.features2 = nn.Sequential(*layers[6:])\n",
    "        self.classifier = nn.Sequential(nn.BatchNorm1d(512), nn.Linear(512, 4))\n",
    "        self.bb = nn.Sequential(nn.BatchNorm1d(512), nn.Linear(512, 4))\n",
    "        \n",
    "    def forward(self, x):\n",
    "        x = self.features1(ax)\n",
    "        x = self.features2(x)\n",
    "        x = F.relu(x)\n",
    "        x = nn.AdaptiveAvgPool2d((1,1))(x)\n",
    "        x = x.view(x.shape[0], -1)\n",
    "        return self.classifier(x), self.bb(x)"
   ]
  },
  {
   "cell_type": "code",
   "execution_count": 38,
   "metadata": {
    "executionInfo": {
     "elapsed": 6,
     "status": "ok",
     "timestamp": 1676438814101,
     "user": {
      "displayName": "tru project",
      "userId": "12415419966224768655"
     },
     "user_tz": -330
    },
    "id": "TxngGGr9WS9D"
   },
   "outputs": [],
   "source": [
    "def update_optimizer(optimizer, lr):\n",
    "    for i, param_group in enumerate(optimizer.param_groups):\n",
    "        param_group[\"lr\"] = lr"
   ]
  },
  {
   "cell_type": "code",
   "execution_count": 39,
   "metadata": {
    "executionInfo": {
     "elapsed": 6,
     "status": "ok",
     "timestamp": 1676438816227,
     "user": {
      "displayName": "tru project",
      "userId": "12415419966224768655"
     },
     "user_tz": -330
    },
    "id": "TqHRJiguWUWE"
   },
   "outputs": [],
   "source": [
    "def train_epocs(model, optimizer, train_dl, val_dl, epochs=10,C=1000):\n",
    "    idx = 0\n",
    "    for i in range(epochs):\n",
    "        model.train()\n",
    "        total = 0\n",
    "        sum_loss = 0\n",
    "        for x, y_class, y_bb in train_dl:\n",
    "            batch = y_class.shape[0]\n",
    "            x = x.cuda().float()\n",
    "            y_class = y_class.cuda()\n",
    "            y_bb = y_bb.cuda().float()\n",
    "            out_class, out_bb = model(x)\n",
    "            loss_class = F.cross_entropy(out_class, y_class, reduction=\"sum\")\n",
    "            loss_bb = F.l1_loss(out_bb, y_bb, reduction=\"none\").sum(1)\n",
    "            loss_bb = loss_bb.sum()\n",
    "            loss = loss_class + loss_bb/C\n",
    "            optimizer.zero_grad()\n",
    "            loss.backward()\n",
    "            optimizer.step()\n",
    "            idx += 1\n",
    "            total += batch\n",
    "            sum_loss += loss.item()\n",
    "        train_loss = sum_loss/total\n",
    "        val_loss, val_acc = val_metrics(model, valid_dl, C)\n",
    "        if (i+1) % 10 == 0:\n",
    "            print(\"i:%4d train_loss:%5.3f val_loss:%5.3f val_acc:%5.3f\" % ((i+1), train_loss, val_loss, val_acc))\n",
    "    return sum_loss/total"
   ]
  },
  {
   "cell_type": "code",
   "execution_count": 40,
   "metadata": {
    "executionInfo": {
     "elapsed": 6,
     "status": "ok",
     "timestamp": 1676438820945,
     "user": {
      "displayName": "tru project",
      "userId": "12415419966224768655"
     },
     "user_tz": -330
    },
    "id": "hkuSlYJmWWAH"
   },
   "outputs": [],
   "source": [
    "def val_metrics(model, valid_dl, C=1000):\n",
    "    model.eval()\n",
    "    total = 0\n",
    "    sum_loss = 0\n",
    "    correct = 0 \n",
    "    for x, y_class, y_bb in valid_dl:\n",
    "        batch = y_class.shape[0]\n",
    "        x = x.cuda().float()\n",
    "        y_class = y_class.cuda()\n",
    "        y_bb = y_bb.cuda().float()\n",
    "        out_class, out_bb = model(x)\n",
    "        loss_class = F.cross_entropy(out_class, y_class, reduction=\"sum\")\n",
    "        loss_bb = F.l1_loss(out_bb, y_bb, reduction=\"none\").sum(1)\n",
    "        loss_bb = loss_bb.sum()\n",
    "        loss = loss_class + loss_bb/C\n",
    "        _, pred = torch.max(out_class, 1)\n",
    "        correct += pred.eq(y_class).sum().item()\n",
    "        sum_loss += loss.item()\n",
    "        total += batch\n",
    "    return sum_loss/total, correct/total"
   ]
  },
  {
   "cell_type": "code",
   "execution_count": 41,
   "metadata": {
    "colab": {
     "base_uri": "https://localhost:8080/",
     "height": 156,
     "referenced_widgets": [
      "7ab18b57e9cc43979ab52b86096d9519",
      "e0875756f35d4e9797952c03d3894a7a",
      "93495a62836544bf921cb87bee5fa38a",
      "90d32cbbae76466abb43716023a8b711",
      "24bc6f99b292490d864c99281228bde7",
      "fe592ce3038941b4a61fa149767f77cc",
      "7fded02e39ee4d5ebcae72fd6c1803ee",
      "821bc77a586c48bfad056f0017ea6057",
      "3c19592eb2214934bf60fc51fcf34ba7",
      "1d6f579e7c3647faaf31415772721aee",
      "ce80bd494fd348d8b2db2dd7730ee9cd"
     ]
    },
    "executionInfo": {
     "elapsed": 6650,
     "status": "ok",
     "timestamp": 1676438829899,
     "user": {
      "displayName": "tru project",
      "userId": "12415419966224768655"
     },
     "user_tz": -330
    },
    "id": "jZOmCoLxWXaU",
    "outputId": "ba15f81b-15f3-4595-f5d8-208fc76da26f"
   },
   "outputs": [
    {
     "name": "stderr",
     "output_type": "stream",
     "text": [
      "/usr/local/lib/python3.8/dist-packages/torchvision/models/_utils.py:208: UserWarning: The parameter 'pretrained' is deprecated since 0.13 and may be removed in the future, please use 'weights' instead.\n",
      "  warnings.warn(\n",
      "/usr/local/lib/python3.8/dist-packages/torchvision/models/_utils.py:223: UserWarning: Arguments other than a weight enum or `None` for 'weights' are deprecated since 0.13 and may be removed in the future. The current behavior is equivalent to passing `weights=ResNet34_Weights.IMAGENET1K_V1`. You can also use `weights=ResNet34_Weights.DEFAULT` to get the most up-to-date weights.\n",
      "  warnings.warn(msg)\n",
      "Downloading: \"https://download.pytorch.org/models/resnet34-b627a593.pth\" to /root/.cache/torch/hub/checkpoints/resnet34-b627a593.pth\n"
     ]
    },
    {
     "data": {
      "application/vnd.jupyter.widget-view+json": {
       "model_id": "7ab18b57e9cc43979ab52b86096d9519",
       "version_major": 2,
       "version_minor": 0
      },
      "text/plain": [
       "  0%|          | 0.00/83.3M [00:00<?, ?B/s]"
      ]
     },
     "metadata": {},
     "output_type": "display_data"
    }
   ],
   "source": [
    "model = RCNN().cuda()\n",
    "parameters = filter(lambda p: p.requires_grad, model.parameters())\n",
    "optimizer = torch.optim.Adam(parameters, lr=0.002)"
   ]
  },
  {
   "cell_type": "code",
   "execution_count": 42,
   "metadata": {
    "colab": {
     "base_uri": "https://localhost:8080/"
    },
    "executionInfo": {
     "elapsed": 313797,
     "status": "ok",
     "timestamp": 1676439147712,
     "user": {
      "displayName": "tru project",
      "userId": "12415419966224768655"
     },
     "user_tz": -330
    },
    "id": "wWOolQtnWZCk",
    "outputId": "bc5f94c9-6ae6-41fb-e578-aa952a49fefb"
   },
   "outputs": [
    {
     "name": "stderr",
     "output_type": "stream",
     "text": [
      "<ipython-input-23-9a8ee5f7d9e1>:6: DeprecationWarning: `np.int` is a deprecated alias for the builtin `int`. To silence this warning, use `int` by itself. Doing this will not modify any behavior and is safe. When replacing `np.int`, you may wish to use e.g. `np.int64` or `np.int32` to specify the precision. If you wish to review your current use, check the release note link for additional information.\n",
      "Deprecated in NumPy 1.20; for more details and guidance: https://numpy.org/devdocs/release/1.20.0-notes.html#deprecations\n",
      "  bb = bb.astype(np.int)\n"
     ]
    },
    {
     "name": "stdout",
     "output_type": "stream",
     "text": [
      "i:  10 train_loss:1.236 val_loss:98.180 val_acc:0.075\n",
      "i:  20 train_loss:0.846 val_loss:13.819 val_acc:0.650\n",
      "i:  30 train_loss:1.334 val_loss:7.879 val_acc:0.475\n",
      "i:  40 train_loss:0.889 val_loss:20.872 val_acc:0.450\n",
      "i:  50 train_loss:0.757 val_loss:1.686 val_acc:0.725\n",
      "i:  60 train_loss:0.681 val_loss:1.995 val_acc:0.750\n",
      "i:  70 train_loss:0.649 val_loss:1.794 val_acc:0.850\n",
      "i:  80 train_loss:0.684 val_loss:1.636 val_acc:0.825\n",
      "i:  90 train_loss:0.546 val_loss:6.192 val_acc:0.675\n",
      "i: 100 train_loss:0.445 val_loss:2.275 val_acc:0.850\n"
     ]
    },
    {
     "data": {
      "text/plain": [
       "0.42362598706317206"
      ]
     },
     "execution_count": 42,
     "metadata": {},
     "output_type": "execute_result"
    }
   ],
   "source": [
    "train_epocs(model, optimizer, train_dl, valid_dl, epochs=101)"
   ]
  },
  {
   "cell_type": "code",
   "execution_count": 43,
   "metadata": {
    "colab": {
     "base_uri": "https://localhost:8080/"
    },
    "executionInfo": {
     "elapsed": 538,
     "status": "ok",
     "timestamp": 1676439178284,
     "user": {
      "displayName": "tru project",
      "userId": "12415419966224768655"
     },
     "user_tz": -330
    },
    "id": "7VfROZyWWbvl",
    "outputId": "f33a542a-411c-485d-e96a-b2f7d64a7a7f"
   },
   "outputs": [
    {
     "name": "stderr",
     "output_type": "stream",
     "text": [
      "<ipython-input-23-9a8ee5f7d9e1>:6: DeprecationWarning: `np.int` is a deprecated alias for the builtin `int`. To silence this warning, use `int` by itself. Doing this will not modify any behavior and is safe. When replacing `np.int`, you may wish to use e.g. `np.int64` or `np.int32` to specify the precision. If you wish to review your current use, check the release note link for additional information.\n",
      "Deprecated in NumPy 1.20; for more details and guidance: https://numpy.org/devdocs/release/1.20.0-notes.html#deprecations\n",
      "  bb = bb.astype(np.int)\n"
     ]
    }
   ],
   "source": [
    "# Predict the first image of the validation set\n",
    "test_batch = next(iter(valid_dl))\n",
    "test_batch[0] = test_batch[0].type(torch.cuda.FloatTensor).cuda()"
   ]
  },
  {
   "cell_type": "code",
   "execution_count": 44,
   "metadata": {
    "executionInfo": {
     "elapsed": 586,
     "status": "ok",
     "timestamp": 1676439183983,
     "user": {
      "displayName": "tru project",
      "userId": "12415419966224768655"
     },
     "user_tz": -330
    },
    "id": "mAwUBdRkWdEU"
   },
   "outputs": [],
   "source": [
    "out, bb = model(test_batch[0])"
   ]
  },
  {
   "cell_type": "code",
   "execution_count": 45,
   "metadata": {
    "colab": {
     "base_uri": "https://localhost:8080/",
     "height": 306
    },
    "executionInfo": {
     "elapsed": 1242,
     "status": "ok",
     "timestamp": 1676439191114,
     "user": {
      "displayName": "tru project",
      "userId": "12415419966224768655"
     },
     "user_tz": -330
    },
    "id": "pWteO55MWe8d",
    "outputId": "a0832c56-fa7e-4238-a2c4-bd45e48effe6"
   },
   "outputs": [
    {
     "name": "stderr",
     "output_type": "stream",
     "text": [
      "WARNING:matplotlib.image:Clipping input data to the valid range for imshow with RGB data ([0..1] for floats or [0..255] for integers).\n"
     ]
    },
    {
     "data": {
      "image/png": "[encoded data removed]",
      "text/plain": [
       "<Figure size 432x288 with 1 Axes>"
      ]
     },
     "metadata": {
      "needs_background": "light"
     },
     "output_type": "display_data"
    }
   ],
   "source": [
    "show_corner_bb(np.moveaxis(test_batch[0][0].cpu().numpy(), 0, 2), bb.detach().cpu().numpy().astype(int)[0])"
   ]
  }
 ],
 "metadata": {
  "accelerator": "GPU",
  "colab": {
   "provenance": []
  },
  "gpuClass": "standard",
  "kernelspec": {
   "display_name": "Python 3",
   "language": "python",
   "name": "python3"
  },
  "language_info": {
   "codemirror_mode": {
    "name": "ipython",
    "version": 3
   },
   "file_extension": ".py",
   "mimetype": "text/x-python",
   "name": "python",
   "nbconvert_exporter": "python",
   "pygments_lexer": "ipython3",
   "version": "3.7.4"
  },
  "widgets": {
   "application/vnd.jupyter.widget-state+json": {
    "1d6f579e7c3647faaf31415772721aee": {
     "model_module": "@jupyter-widgets/base",
     "model_module_version": "1.2.0",
     "model_name": "LayoutModel",
     "state": {
      "_model_module": "@jupyter-widgets/base",
      "_model_module_version": "1.2.0",
      "_model_name": "LayoutModel",
      "_view_count": null,
      "_view_module": "@jupyter-widgets/base",
      "_view_module_version": "1.2.0",
      "_view_name": "LayoutView",
      "align_content": null,
      "align_items": null,
      "align_self": null,
      "border": null,
      "bottom": null,
      "display": null,
      "flex": null,
      "flex_flow": null,
      "grid_area": null,
      "grid_auto_columns": null,
      "grid_auto_flow": null,
      "grid_auto_rows": null,
      "grid_column": null,
      "grid_gap": null,
      "grid_row": null,
      "grid_template_areas": null,
      "grid_template_columns": null,
      "grid_template_rows": null,
      "height": null,
      "justify_content": null,
      "justify_items": null,
      "left": null,
      "margin": null,
      "max_height": null,
      "max_width": null,
      "min_height": null,
      "min_width": null,
      "object_fit": null,
      "object_position": null,
      "order": null,
      "overflow": null,
      "overflow_x": null,
      "overflow_y": null,
      "padding": null,
      "right": null,
      "top": null,
      "visibility": null,
      "width": null
     }
    },
    "24bc6f99b292490d864c99281228bde7": {
     "model_module": "@jupyter-widgets/base",
     "model_module_version": "1.2.0",
     "model_name": "LayoutModel",
     "state": {
      "_model_module": "@jupyter-widgets/base",
      "_model_module_version": "1.2.0",
      "_model_name": "LayoutModel",
      "_view_count": null,
      "_view_module": "@jupyter-widgets/base",
      "_view_module_version": "1.2.0",
      "_view_name": "LayoutView",
      "align_content": null,
      "align_items": null,
      "align_self": null,
      "border": null,
      "bottom": null,
      "display": null,
      "flex": null,
      "flex_flow": null,
      "grid_area": null,
      "grid_auto_columns": null,
      "grid_auto_flow": null,
      "grid_auto_rows": null,
      "grid_column": null,
      "grid_gap": null,
      "grid_row": null,
      "grid_template_areas": null,
      "grid_template_columns": null,
      "grid_template_rows": null,
      "height": null,
      "justify_content": null,
      "justify_items": null,
      "left": null,
      "margin": null,
      "max_height": null,
      "max_width": null,
      "min_height": null,
      "min_width": null,
      "object_fit": null,
      "object_position": null,
      "order": null,
      "overflow": null,
      "overflow_x": null,
      "overflow_y": null,
      "padding": null,
      "right": null,
      "top": null,
      "visibility": null,
      "width": null
     }
    },
    "3c19592eb2214934bf60fc51fcf34ba7": {
     "model_module": "@jupyter-widgets/controls",
     "model_module_version": "1.5.0",
     "model_name": "ProgressStyleModel",
     "state": {
      "_model_module": "@jupyter-widgets/controls",
      "_model_module_version": "1.5.0",
      "_model_name": "ProgressStyleModel",
      "_view_count": null,
      "_view_module": "@jupyter-widgets/base",
      "_view_module_version": "1.2.0",
      "_view_name": "StyleView",
      "bar_color": null,
      "description_width": ""
     }
    },
    "7ab18b57e9cc43979ab52b86096d9519": {
     "model_module": "@jupyter-widgets/controls",
     "model_module_version": "1.5.0",
     "model_name": "HBoxModel",
     "state": {
      "_dom_classes": [],
      "_model_module": "@jupyter-widgets/controls",
      "_model_module_version": "1.5.0",
      "_model_name": "HBoxModel",
      "_view_count": null,
      "_view_module": "@jupyter-widgets/controls",
      "_view_module_version": "1.5.0",
      "_view_name": "HBoxView",
      "box_style": "",
      "children": [
       "IPY_MODEL_e0875756f35d4e9797952c03d3894a7a",
       "IPY_MODEL_93495a62836544bf921cb87bee5fa38a",
       "IPY_MODEL_90d32cbbae76466abb43716023a8b711"
      ],
      "layout": "IPY_MODEL_24bc6f99b292490d864c99281228bde7"
     }
    },
    "7fded02e39ee4d5ebcae72fd6c1803ee": {
     "model_module": "@jupyter-widgets/controls",
     "model_module_version": "1.5.0",
     "model_name": "DescriptionStyleModel",
     "state": {
      "_model_module": "@jupyter-widgets/controls",
      "_model_module_version": "1.5.0",
      "_model_name": "DescriptionStyleModel",
      "_view_count": null,
      "_view_module": "@jupyter-widgets/base",
      "_view_module_version": "1.2.0",
      "_view_name": "StyleView",
      "description_width": ""
     }
    },
    "821bc77a586c48bfad056f0017ea6057": {
     "model_module": "@jupyter-widgets/base",
     "model_module_version": "1.2.0",
     "model_name": "LayoutModel",
     "state": {
      "_model_module": "@jupyter-widgets/base",
      "_model_module_version": "1.2.0",
      "_model_name": "LayoutModel",
      "_view_count": null,
      "_view_module": "@jupyter-widgets/base",
      "_view_module_version": "1.2.0",
      "_view_name": "LayoutView",
      "align_content": null,
      "align_items": null,
      "align_self": null,
      "border": null,
      "bottom": null,
      "display": null,
      "flex": null,
      "flex_flow": null,
      "grid_area": null,
      "grid_auto_columns": null,
      "grid_auto_flow": null,
      "grid_auto_rows": null,
      "grid_column": null,
      "grid_gap": null,
      "grid_row": null,
      "grid_template_areas": null,
      "grid_template_columns": null,
      "grid_template_rows": null,
      "height": null,
      "justify_content": null,
      "justify_items": null,
      "left": null,
      "margin": null,
      "max_height": null,
      "max_width": null,
      "min_height": null,
      "min_width": null,
      "object_fit": null,
      "object_position": null,
      "order": null,
      "overflow": null,
      "overflow_x": null,
      "overflow_y": null,
      "padding": null,
      "right": null,
      "top": null,
      "visibility": null,
      "width": null
     }
    },
    "90d32cbbae76466abb43716023a8b711": {
     "model_module": "@jupyter-widgets/controls",
     "model_module_version": "1.5.0",
     "model_name": "HTMLModel",
     "state": {
      "_dom_classes": [],
      "_model_module": "@jupyter-widgets/controls",
      "_model_module_version": "1.5.0",
      "_model_name": "HTMLModel",
      "_view_count": null,
      "_view_module": "@jupyter-widgets/controls",
      "_view_module_version": "1.5.0",
      "_view_name": "HTMLView",
      "description": "",
      "description_tooltip": null,
      "layout": "IPY_MODEL_1d6f579e7c3647faaf31415772721aee",
      "placeholder": "​",
      "style": "IPY_MODEL_ce80bd494fd348d8b2db2dd7730ee9cd",
      "value": " 83.3M/83.3M [00:00&lt;00:00, 115MB/s]"
     }
    },
    "93495a62836544bf921cb87bee5fa38a": {
     "model_module": "@jupyter-widgets/controls",
     "model_module_version": "1.5.0",
     "model_name": "FloatProgressModel",
     "state": {
      "_dom_classes": [],
      "_model_module": "@jupyter-widgets/controls",
      "_model_module_version": "1.5.0",
      "_model_name": "FloatProgressModel",
      "_view_count": null,
      "_view_module": "@jupyter-widgets/controls",
      "_view_module_version": "1.5.0",
      "_view_name": "ProgressView",
      "bar_style": "success",
      "description": "",
      "description_tooltip": null,
      "layout": "IPY_MODEL_821bc77a586c48bfad056f0017ea6057",
      "max": 87319819,
      "min": 0,
      "orientation": "horizontal",
      "style": "IPY_MODEL_3c19592eb2214934bf60fc51fcf34ba7",
      "value": 87319819
     }
    },
    "ce80bd494fd348d8b2db2dd7730ee9cd": {
     "model_module": "@jupyter-widgets/controls",
     "model_module_version": "1.5.0",
     "model_name": "DescriptionStyleModel",
     "state": {
      "_model_module": "@jupyter-widgets/controls",
      "_model_module_version": "1.5.0",
      "_model_name": "DescriptionStyleModel",
      "_view_count": null,
      "_view_module": "@jupyter-widgets/base",
      "_view_module_version": "1.2.0",
      "_view_name": "StyleView",
      "description_width": ""
     }
    },
    "e0875756f35d4e9797952c03d3894a7a": {
     "model_module": "@jupyter-widgets/controls",
     "model_module_version": "1.5.0",
     "model_name": "HTMLModel",
     "state": {
      "_dom_classes": [],
      "_model_module": "@jupyter-widgets/controls",
      "_model_module_version": "1.5.0",
      "_model_name": "HTMLModel",
      "_view_count": null,
      "_view_module": "@jupyter-widgets/controls",
      "_view_module_version": "1.5.0",
      "_view_name": "HTMLView",
      "description": "",
      "description_tooltip": null,
      "layout": "IPY_MODEL_fe592ce3038941b4a61fa149767f77cc",
      "placeholder": "​",
      "style": "IPY_MODEL_7fded02e39ee4d5ebcae72fd6c1803ee",
      "value": "100%"
     }
    },
    "fe592ce3038941b4a61fa149767f77cc": {
     "model_module": "@jupyter-widgets/base",
     "model_module_version": "1.2.0",
     "model_name": "LayoutModel",
     "state": {
      "_model_module": "@jupyter-widgets/base",
      "_model_module_version": "1.2.0",
      "_model_name": "LayoutModel",
      "_view_count": null,
      "_view_module": "@jupyter-widgets/base",
      "_view_module_version": "1.2.0",
      "_view_name": "LayoutView",
      "align_content": null,
      "align_items": null,
      "align_self": null,
      "border": null,
      "bottom": null,
      "display": null,
      "flex": null,
      "flex_flow": null,
      "grid_area": null,
      "grid_auto_columns": null,
      "grid_auto_flow": null,
      "grid_auto_rows": null,
      "grid_column": null,
      "grid_gap": null,
      "grid_row": null,
      "grid_template_areas": null,
      "grid_template_columns": null,
      "grid_template_rows": null,
      "height": null,
      "justify_content": null,
      "justify_items": null,
      "left": null,
      "margin": null,
      "max_height": null,
      "max_width": null,
      "min_height": null,
      "min_width": null,
      "object_fit": null,
      "object_position": null,
      "order": null,
      "overflow": null,
      "overflow_x": null,
      "overflow_y": null,
      "padding": null,
      "right": null,
      "top": null,
      "visibility": null,
      "width": null
     }
    }
   }
  }
 },
 "nbformat": 4,
 "nbformat_minor": 1
}
